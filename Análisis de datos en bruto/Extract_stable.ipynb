{
 "cells": [
  {
   "cell_type": "markdown",
   "id": "775984f1",
   "metadata": {},
   "source": [
    "# <a id='toc1_'></a>[Hacer censo y extraer estables](#toc0_)\n",
    "\n"
   ]
  },
  {
   "cell_type": "markdown",
   "id": "99858df5",
   "metadata": {},
   "source": [
    "**Table of contents**<a id='toc0_'></a>\n",
    "    \n",
    "----\n",
    "- [General](#toc1_1_)    \n",
    "- [Funciones](#toc1_2_)    \n",
    "- [_Main_](#toc1_3_)    \n",
    "----\n",
    "<!-- vscode-jupyter-toc-config\n",
    "\tnumbering=false\n",
    "\tanchor=true\n",
    "\tflat=false\n",
    "\tminLevel=1\n",
    "\tmaxLevel=6\n",
    "\t/vscode-jupyter-toc-config -->\n",
    "<!-- THIS CELL WILL BE REPLACED ON TOC UPDATE. DO NOT WRITE YOUR TEXT IN THIS CELL -->"
   ]
  },
  {
   "cell_type": "markdown",
   "metadata": {},
   "source": [
    "## <a id='toc1_1_'></a>[General](#toc0_)\n",
    "\n"
   ]
  },
  {
   "cell_type": "code",
   "execution_count": 2,
   "id": "025d3c4e",
   "metadata": {},
   "outputs": [],
   "source": [
    "\n",
    "import pickle\n",
    "import os\n",
    "from concurrent.futures import ProcessPoolExecutor\n",
    "from tqdm import tqdm as tqdm\n",
    "\n",
    "general_directory=os.getcwd()+'/Data/'\n"
   ]
  },
  {
   "cell_type": "markdown",
   "metadata": {},
   "source": [
    "----\n",
    "## <a id='toc1_2_'></a>[Funciones](#toc0_)"
   ]
  },
  {
   "cell_type": "code",
   "execution_count": 8,
   "id": "32b51509",
   "metadata": {},
   "outputs": [
    {
     "data": {
      "text/plain": [
       "['2022-05-18.dat']"
      ]
     },
     "execution_count": 8,
     "metadata": {},
     "output_type": "execute_result"
    }
   ],
   "source": [
    "get_days()"
   ]
  },
  {
   "cell_type": "code",
   "execution_count": 4,
   "id": "a805124d",
   "metadata": {},
   "outputs": [],
   "source": [
    "def get_days():\n",
    "    if not os.path.isdir(general_directory): os.mkdir('Data')\n",
    "    if not os.path.isdir(general_directory+'Days'): os.mkdir(general_directory+'Days')\n",
    "    days=[i for i in os.listdir(general_directory+'Days') if i[-3:]=='dat' ]\n",
    "    days.sort()\n",
    "    days=[days[i] for i in range(len(days)) if all([(i-j)%7 != 0 for j in [3,4]])]\n",
    "    return days"
   ]
  },
  {
   "cell_type": "code",
   "execution_count": 5,
   "id": "likely-argentina",
   "metadata": {},
   "outputs": [],
   "source": [
    "def save_dataP(name,dictionary,location=general_directory):\n",
    "\n",
    "    with open(location+'Saves/'+ name+'.pkl', 'wb') as tf:\n",
    "        pickle.dump(dictionary,tf)\n",
    "    "
   ]
  },
  {
   "cell_type": "code",
   "execution_count": 6,
   "id": "excess-message",
   "metadata": {},
   "outputs": [],
   "source": [
    "def census(day,cen):\n",
    "    with open(general_directory+'Days/'+day) as file:\n",
    "        orow='0'\n",
    "        for line in file:\n",
    "            if line!='zones time_end time_start time_start zones\\n':\n",
    "                row=line.replace(\"'\",'').replace(\"  \",' ').replace('\\n','').split(sep=' ')\n",
    "                if row[0]!=orow[0]:\n",
    "                    cen[row[0]]=cen.get(row[0],{'home':[],'work':[]})\n",
    "                    cen[row[0]]['home']=cen[row[0]].get('home')+[row[3]]\n",
    "                    cen[row[0]]['work']=cen[row[0]].get('work')+[row[4]]\n",
    "                    orow=row\n",
    "       \n",
    "    \n"
   ]
  },
  {
   "cell_type": "code",
   "execution_count": 7,
   "id": "7a9ea8dd",
   "metadata": {},
   "outputs": [],
   "source": [
    "def stable(censdic):\n",
    "    estable={}\n",
    "    for ID in censdic.keys():\n",
    "        stable_place=0\n",
    "        gp=[]\n",
    "        for place in ['home','work']:\n",
    "            for i in set(censdic[ID][place]):            \n",
    "                p=censdic[ID][place].count(i)/N\n",
    "                if 0.5<=p:\n",
    "                    stable_place+=1\n",
    "                    gp.append(i)         \n",
    "        if stable_place==2:\n",
    "            estable[int(ID)]=estable.get(int(ID),{'home':[],'work':[]})\n",
    "            estable[int(ID)]['home']=estable[int(ID)].get('home',gp[0])+[gp[0]]\n",
    "            estable[int(ID)]['work']=estable[int(ID)].get('work',gp[1])+[gp[1]]\n",
    "    save_dataP('Estables',estable)\n",
    "    print('Detectados '+ str(len(estable)) +' IDs con comportamiento estable')\n"
   ]
  },
  {
   "cell_type": "markdown",
   "metadata": {},
   "source": [
    "----\n",
    "## <a id='toc1_3_'></a>[_Main_](#toc0_)"
   ]
  },
  {
   "cell_type": "code",
   "execution_count": null,
   "id": "yellow-intake",
   "metadata": {},
   "outputs": [],
   "source": [
    "def main():\n",
    "    days=get_days()\n",
    "    N=len(days)\n",
    "    if N==0: print('No data yet')\n",
    "    else:\n",
    "        print('Days in data: '+str(N))\n",
    "        cen={}\n",
    "        print('Starting census')\n",
    "        list(map(census,tqdm(days,desc='Census'),[cen for i in days]))\n",
    "        #print([str(list(cen.keys())[i])+':'+str(cen[list(cen.keys())[i]]) for i in range(5)])\n",
    "        print('Defining stables')\n",
    "        stable(cen)\n",
    "        print('Census done')"
   ]
  },
  {
   "cell_type": "code",
   "execution_count": null,
   "id": "fiscal-young",
   "metadata": {},
   "outputs": [],
   "source": [
    "if __name__==\"__main__\":\n",
    "    \n",
    "    main()"
   ]
  }
 ],
 "metadata": {
  "kernelspec": {
   "display_name": "Python 3 (ipykernel)",
   "language": "python",
   "name": "python3"
  }
 },
 "nbformat": 4,
 "nbformat_minor": 5
}
