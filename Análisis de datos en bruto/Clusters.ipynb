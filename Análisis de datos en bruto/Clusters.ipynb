{
 "cells": [
  {
   "cell_type": "markdown",
   "id": "6f3fd235",
   "metadata": {},
   "source": [
    "# <a id='toc1_'></a>[_CLusters_: búsqueda, _plot_ y PCA](#toc0_)"
   ]
  },
  {
   "cell_type": "markdown",
   "id": "ced13b72",
   "metadata": {},
   "source": [
    "----\n",
    "**Table of contents**<a id='toc0_'></a>    \n",
    "\n",
    "- [General](#toc1_1_)    \n",
    "- [Funciones](#toc1_2_)    \n",
    "  - [Para los promedios](#toc1_2_1_)    \n",
    "  - [Torres a zonas](#toc1_2_2_)    \n",
    "  - [Ploteo](#toc1_2_3_)    \n",
    "- [_Main_](#toc1_3_)    \n",
    "- [_Map_](#toc1_4_)    \n",
    "  - [Zonas del cluster 0 (azul) vs zonas del cluster 1 (rojo)](#toc1_4_1_)    \n",
    "   \n",
    "\n",
    "<!-- vscode-jupyter-toc-config\n",
    "\tnumbering=false\n",
    "\tanchor=true\n",
    "\tflat=false\n",
    "\tminLevel=1\n",
    "\tmaxLevel=6\n",
    "\t/vscode-jupyter-toc-config -->\n",
    "<!-- THIS CELL WILL BE REPLACED ON TOC UPDATE. DO NOT WRITE YOUR TEXT IN THIS CELL -->\n",
    "----"
   ]
  },
  {
   "cell_type": "markdown",
   "metadata": {},
   "source": [
    "## <a id='toc1_1_'></a>[General](#toc0_)"
   ]
  },
  {
   "cell_type": "code",
   "execution_count": null,
   "id": "hairy-protocol",
   "metadata": {},
   "outputs": [],
   "source": [
    "\n",
    "import pickle\n",
    "import os\n",
    "os.environ['OMP_NUM_THREADS']='1'\n",
    "import numpy as np\n",
    "import pandas as pd\n",
    "from tqdm import tqdm as tqdmimport matplotlib.pyplot as plot\n",
    "from sklearn.cluster import KMeans\n",
    "from sklearn.decomposition import PCA  \n",
    "\n",
    "import json\n",
    "import folium\n",
    "from shapely.geometry import MultiPoint, Polygon, LineString\n",
    "from shapely import geometry as shg\n"
   ]
  },
  {
   "cell_type": "code",
   "execution_count": null,
   "id": "exclusive-rochester",
   "metadata": {},
   "outputs": [],
   "source": [
    "general_directory=os.getcwd()+'/Data/'\n",
    "\n",
    "cases=['allt','hw','no','mo']\n",
    "st=['st','unst']\n",
    "\n",
    "times=[i*3600 for i in range(0,25)]\n",
    "\n",
    "times_r=[str(int(times[i]/3600))+'-'+str(int(times[i+1]/3600)) for i in range(len(times)-1)]\n",
    "\n",
    "with open(general_directory+'Saves/Towers.pkl','r+b') as pk:\n",
    "        towers=pickle.load(pk)\n",
    "        \n",
    "towers_prop=pd.read_csv(general_directory+'/zt_havana_tower.csv').drop_duplicates().drop_duplicates(subset=['id','category'],keep='first')"
   ]
  },
  {
   "cell_type": "code",
   "execution_count": null,
   "id": "9cd0d72e",
   "metadata": {},
   "outputs": [],
   "source": [
    "for i in list(towers_prop['id'].unique()):\n",
    "    if 99.5>=sum(towers_prop[towers_prop['id']==i]['percent']) or sum(towers_prop[towers_prop['id']==i]['percent'])>=100.5:\n",
    "        towers_prop.drop(towers_prop[towers_prop['id']==i].index[-1],inplace=True)"
   ]
  },
  {
   "cell_type": "markdown",
   "metadata": {},
   "source": [
    "## <a id='toc1_2_'></a>[Funciones](#toc0_)"
   ]
  },
  {
   "cell_type": "code",
   "execution_count": null,
   "id": "20145e73",
   "metadata": {},
   "outputs": [],
   "source": [
    "def save_dataP(name,dictionary,location=general_directory):\n",
    "\n",
    "    with open(location+'Saves/'+ name+'.pkl', 'wb') as tf:\n",
    "        pickle.dump(dictionary,tf)\n",
    "    "
   ]
  },
  {
   "cell_type": "markdown",
   "metadata": {},
   "source": [
    "### <a id='toc1_2_1_'></a>[Para los promedios](#toc0_)"
   ]
  },
  {
   "cell_type": "code",
   "execution_count": null,
   "id": "boxed-disease",
   "metadata": {},
   "outputs": [],
   "source": [
    "def load_hist(case,st,days):\n",
    "    if st=='all': st='unst'\n",
    "    elif st=='stable':st='st'\n",
    "        \n",
    "    with open(general_directory+'Saves/Meanh_'+case+'_'+st+'_'+days+'.pkl','r+b') as pk:\n",
    "        hist=pickle.load(pk)\n",
    "    return hist"
   ]
  },
  {
   "cell_type": "code",
   "execution_count": null,
   "id": "e11feb63",
   "metadata": {},
   "outputs": [],
   "source": [
    "def load_mat(case,st,days):\n",
    "    m=np.genfromtxt(general_directory+'Saves/Meanm_'+case+'_'+st+'_'+days+'.csv',delimiter=',')\n",
    "    return m"
   ]
  },
  {
   "cell_type": "markdown",
   "metadata": {},
   "source": [
    "### <a id='toc1_2_2_'></a>[Torres a zonas](#toc0_)"
   ]
  },
  {
   "cell_type": "code",
   "execution_count": null,
   "id": "6f74498a",
   "metadata": {},
   "outputs": [],
   "source": [
    "def matrix_z(matrix_t):\n",
    "    matrix_z=np.zeros((134,134))\n",
    "    for i in range(len(towers)):\n",
    "        for j in range(len(towers)):\n",
    "            erow=towers_prop[towers_prop['id']==towers[i]]\n",
    "            ecol=towers_prop[towers_prop['id']==towers[j]]\n",
    "            for r in range(len(erow['category'])):\n",
    "                for c in range(len(ecol['category'])):\n",
    "                    matrix_z[int(erow['category'].iloc[r])-1][int(ecol['category'].iloc[c])-1]+=matrix_t[i][j]*erow['percent'].iloc[r]*ecol['percent'].iloc[c]/10000\n",
    "    winsound.Beep(30000,500)\n",
    "    return matrix_z\n",
    "            \n",
    "    \n",
    "def hist_z(hist_t):\n",
    "    hist_z=pd.DataFrame({i+' In':0 for i in times_r}|{i+' Out':0 for i in times_r},index=range(1,135))\n",
    "    for i in hist_t.index:\n",
    "        erow=towers_prop[towers_prop['id']==i]\n",
    "        for r in range(len(erow['category'])):\n",
    "                hist_z.loc[int(erow['category'].iloc[r])]+=hist_t.loc[i]*erow['percent'].iloc[r]/100\n",
    "    return hist_z"
   ]
  },
  {
   "cell_type": "markdown",
   "metadata": {},
   "source": [
    "### <a id='toc1_2_3_'></a>[Ploteo](#toc0_)"
   ]
  },
  {
   "cell_type": "code",
   "execution_count": null,
   "id": "ef524e04",
   "metadata": {},
   "outputs": [],
   "source": [
    "\n",
    "\n",
    "def plots(hist,tow):\n",
    "    plot.figure()  \n",
    "    hist.iloc[tow][24:48].plot(kind='line',linestyle='--',label='Iniciados en la torre '+str(tow))\n",
    "    hist.iloc[tow][:24].plot(kind='line',linestyle='--',label='Terminados en la torre '+str(tow))\n",
    "\n",
    "    ax = plot.subplot()\n",
    "    ax.set_xticks(range(24)) \n",
    "    ax.set_xticklabels(times_r, rotation=90) \n",
    "\n",
    "    plot.title('Data/Images/Inicios Vs finales en '+str(tow))\n",
    "    plot.legend()\n",
    "    plot.show()\n",
    "    plot.savefig('Data/Images/Inicios Vs finales en '+str(tow) +'.jpg')\n"
   ]
  },
  {
   "cell_type": "code",
   "execution_count": null,
   "id": "8b1259a2",
   "metadata": {},
   "outputs": [],
   "source": [
    "\n",
    "def plots_T(hist,out_or_in,case,st,days):\n",
    "    plot.figure() \n",
    "\n",
    "    for t in range(len(hist)):\n",
    "        if out_or_in=='Inicios': hist.loc[t][:24].plot(kind='line',linestyle='--',label='Cluster '+str(t))\n",
    "        elif out_or_in=='Finales':hist.loc[t][24:48].plot(kind='line',linestyle='--',label='Cluster '+str(t))\n",
    "        ax = plot.subplot()\n",
    "        ax.set_xticks(range(24)) \n",
    "        ax.set_xticklabels(times_r, rotation=90) \n",
    "        plot.legend()\n",
    "        plot.title(out_or_in+' ('+case+' travels,'+st+' citizens,'+days+'days)')\n",
    "\n",
    "    plot.savefig('Data/Images/Clusters '+out_or_in+' ('+case+' travels,'+st+' citizens,'+days+'days).jpg')\n",
    "    "
   ]
  },
  {
   "cell_type": "markdown",
   "metadata": {},
   "source": [
    "----\n",
    "## <a id='toc1_3_'></a>[_Main_](#toc0_)"
   ]
  },
  {
   "cell_type": "code",
   "execution_count": null,
   "id": "64c06a18",
   "metadata": {},
   "outputs": [],
   "source": [
    "def main(cases,st,days):\n",
    "\n",
    "    nclus=2\n",
    "    \n",
    "    with tqdm(desc=\"Clusterizing and plotting\",total=4*(len(cases)*len(st)*len(days))) as pbar:\n",
    "        for cs in cases:\n",
    "            for s in st:\n",
    "                for day in days:\n",
    "                    %matplotlib inline\n",
    "                    datos  = hist_z(load_hist(cs,s,day))\n",
    "                    datos=datos.loc[~(datos==0).all(axis=1)]\n",
    "                    datos_norm = datos.div(datos.sum(axis=1), axis=0).fillna(0)\n",
    "                    \n",
    "                    \n",
    "                    wcss = []\n",
    "\n",
    "                    for i in range (1,11):\n",
    "                        kmeans  = KMeans (n_clusters = i,max_iter = 300)\n",
    "                        kmeans.fit (datos_norm)\n",
    "                        wcss.append (kmeans.inertia_)\n",
    "\n",
    "\n",
    "                    plot.plot (range(1,11),wcss)\n",
    "                    plot.xlabel ('Número de clusters')\n",
    "                    plot.ylabel ('wcss')\n",
    "                    plot.title ('Codo de Jambú ('+cs+' travels,'+s+' citizens,'+day+'days)')\n",
    "                    plot.savefig('Data/Images/Codo de Jambú ('+cs+' travels,'+s+' citizens,'+day+'days).jpg')\n",
    "                    pbar.update()\n",
    "                    \n",
    "                    clustering = KMeans (n_clusters = nclus,max_iter = 300)\n",
    "                    clustering.fit (datos_norm)\n",
    "\n",
    "                    datos['KMeans_clustering'] = clustering.labels_\n",
    "\n",
    "                    pca = PCA(n_components = 2)\n",
    "                    pca_datos = pca.fit_transform (datos_norm)\n",
    "                    pca_datos_df = pd.DataFrame (data = pca_datos, columns = ['Componente_1','Componente_2'] )\n",
    "                    pca_nombres_datos = pd.concat ([pca_datos_df,datos['KMeans_clustering']],axis=1)\n",
    "\n",
    "                    fig = plot.figure (figsize = (6,6))  \n",
    "                    ax = fig.add_subplot (1,1,1)\n",
    "                    ax.set_xlabel ('Componente 1')\n",
    "                    ax.set_ylabel ('Componente 2')\n",
    "                    plot.title ('Clusters scatter ('+cs+' travels,'+s+' citizens,'+day+'days)')\n",
    "                    ax.scatter (x = pca_nombres_datos.Componente_1,y=pca_nombres_datos.Componente_2,c=pca_nombres_datos.KMeans_clustering,s=50,cmap='viridis')\n",
    "                    plot.savefig('Data/Images/Clusters scatter ('+cs+' travels,'+s+' citizens,'+day+'days).jpg')\n",
    "                    pbar.update()\n",
    "                    \n",
    "                    datos_norm=pd.concat ([datos_norm,datos['KMeans_clustering']],axis=1).dropna()\n",
    "            \n",
    "                    c_h=pd.DataFrame([datos_norm[datos_norm.KMeans_clustering==i].mean() for i in range (nclus)], index=list(range (nclus)))\n",
    "\n",
    "                    plots_T(c_h,'Inicios',cs,s,day)\n",
    "                    pbar.update()\n",
    "                    plots_T(c_h,'Finales',cs,s,day)\n",
    "                    pbar.update()\n",
    "                    \n",
    "                    print('cluster 1 :',list(datos[datos.KMeans_clustering==0].index-1))\n",
    "                    print('cluster 2 :',list(datos[datos.KMeans_clustering==1].index-1))"
   ]
  },
  {
   "cell_type": "code",
   "execution_count": null,
   "id": "square-albany",
   "metadata": {
    "collapsed": true
   },
   "outputs": [],
   "source": [
    "cluster 1 : [1, 2, 3, 4, 5, 6, 8, 9, 10, 11, 12, 13, 14, 15, 16, 17, 18, 19, 20, 21, 22, 23, 29, 30, 31, 32, 33, 34, 36, 37, 39, 40, 41, 46, 54, 55, 56, 57, 58, 59, 66, 67, 68, 69, 73, 80, 90, 92, 96, 102, 107, 108, 109, 111, 114, 116, 117, 118, 121, 127, 133]\n",
    "cluster 2 : [0, 7, 38, 42, 43, 44, 45, 48, 49, 50, 51, 52, 53, 60, 61, 62, 63, 64, 65, 70, 71, 72, 74, 75, 76, 77, 78, 79, 82, 83, 84, 85, 86, 87, 88, 89, 91, 93, 94, 95, 97, 98, 99, 100, 101, 103, 104, 105, 106, 110, 112, 113, 115, 119, 120, 122, 123, 124, 125, 126, 128, 129, 130, 131, 132]\n",
    "\n",
    "cluster 1 : [0, 1, 3, 7, 42, 43, 44, 45, 48, 49, 50, 51, 52, 53, 61, 62, 63, 64, 65, 66, 70, 71, 72, 74, 75, 76, 77, 78, 79, 80, 82, 83, 84, 85, 86, 87, 88, 89, 90, 91, 92, 93, 94, 95, 96, 97, 98, 99, 100, 101, 102, 103, 104, 105, 106, 107, 110, 112, 113, 115, 118, 119, 120, 122, 123, 124, 125, 126, 128, 129, 130, 131, 132]\n",
    "cluster 2 : [2, 4, 5, 6, 8, 9, 10, 11, 12, 13, 14, 15, 16, 17, 18, 19, 20, 21, 22, 23, 29, 30, 31, 32, 33, 34, 36, 37, 38, 39, 40, 41, 46, 54, 55, 56, 57, 58, 59, 60, 67, 68, 69, 73, 108, 109, 111, 114, 116, 117, 121, 127, 133]\n"
   ]
  },
  {
   "cell_type": "code",
   "execution_count": null,
   "id": "ef76b446",
   "metadata": {},
   "outputs": [],
   "source": [
    "main(['allt'],['stable','all'],['week','all'])"
   ]
  },
  {
   "cell_type": "code",
   "execution_count": null,
   "id": "ranging-serve",
   "metadata": {},
   "outputs": [],
   "source": [
    "nclus=2\n",
    "datos  = hist_z(load_hist('allt','all','all'))\n",
    "datos=datos.loc[~(datos==0).all(axis=1)]\n",
    "datos_norm = datos.div(datos.sum(axis=1), axis=0).fillna(0)\n",
    "clustering = KMeans (n_clusters = nclus,max_iter = 300)\n",
    "clustering.fit (datos_norm)\n",
    "\n",
    "datos['KMeans_clustering'] = clustering.labels_\n",
    "\n"
   ]
  },
  {
   "cell_type": "code",
   "execution_count": null,
   "id": "naval-brush",
   "metadata": {},
   "outputs": [],
   "source": [
    "l1= [0, 7, 42, 43, 44, 45, 48, 49, 50, 51, 52, 53, 61, 62, 63, 64, 65, 66, 70, 71, 72, 74, 75, 76, 77, 78, 79, 80, 82, 83, 84, 85, 86, 87, 88, 89, 90, 91, 92, 93, 94, 95, 96, 97, 98, 99, 100, 101, 102, 103, 104, 105, 106, 110, 112,113, 115, 119, 120, 122, 123, 124, 125, 126, 128, 129, 130, 131, 132]\n",
    "l2=[1, 2, 3, 4, 5, 6, 8, 9, 10, 11, 12, 13, 14, 15, 16, 17, 18, 19, 20, 21, 22, 23, 29, 30, 31, 32, 33, 34, 36, 37, 38, 39, 40, 41, 46, 54, 55, 56, 57, 58, 59, 60, 67, 68, 69, 73, 107, 108, 109, 111, 114, 116, 117, 118, 121, 127,133]\n",
    "\n"
   ]
  },
  {
   "cell_type": "code",
   "execution_count": null,
   "id": "752a2154",
   "metadata": {},
   "outputs": [],
   "source": [
    "for i in l2: print(i in list(datos[datos.KMeans_clustering==1].index-1))"
   ]
  },
  {
   "cell_type": "markdown",
   "metadata": {},
   "source": [
    "----\n",
    "## <a id='toc1_4_'></a>[_Map_](#toc0_)"
   ]
  },
  {
   "cell_type": "code",
   "execution_count": null,
   "id": "b1b1ad83",
   "metadata": {},
   "outputs": [],
   "source": [
    "def convert_geo_to_shg(features):\n",
    "    features_shg = []\n",
    "    shg_props = []\n",
    "    for i in range(len(features)):\n",
    "        feature =features[i]\n",
    "        #print(\" working with \",i,\" \",feature['properties'],\" \\n ============ \\n\\n \")\n",
    "        shape = shg.shape(feature['geometry'])\n",
    "        features_shg.append(shape)\n",
    "        shg_props.append(feature['properties'])\n",
    "    return features_shg, shg_props"
   ]
  },
  {
   "cell_type": "code",
   "execution_count": null,
   "id": "hispanic-edition",
   "metadata": {},
   "outputs": [],
   "source": [
    "fd = open('./zonas_de_trasporte.json', 'r')\n",
    "transp_zones_json = json.load(fd)\n",
    "fd.close()\n",
    "\n",
    "transp_zones_shg, transp_props = convert_geo_to_shg(transp_zones_json['features'])"
   ]
  },
  {
   "cell_type": "code",
   "execution_count": null,
   "id": "august-photography",
   "metadata": {},
   "outputs": [],
   "source": [
    "zones0=list((set(range(134))-set(datos[datos.KMeans_clustering==1].index-1))-set(datos[datos.KMeans_clustering==0].index-1))"
   ]
  },
  {
   "cell_type": "code",
   "execution_count": null,
   "id": "atomic-shirt",
   "metadata": {},
   "outputs": [],
   "source": [
    "transp_zones_json0={'type': 'FeatureCollection',\n",
    " 'name': 'zonas_de_trasporte',\n",
    " 'crs': {'type': 'name',\n",
    "  'properties': {'name': 'urn:ogc:def:crs:OGC:1.3:CRS84'}},\n",
    " 'features':[transp_zones_json['features'][z] for z in zones0]}\n",
    "\n",
    "transp_zones_json1={'type': 'FeatureCollection',\n",
    " 'name': 'zonas_de_trasporte',\n",
    " 'crs': {'type': 'name',\n",
    "  'properties': {'name': 'urn:ogc:def:crs:OGC:1.3:CRS84'}},\n",
    " 'features':[transp_zones_json['features'][z] for z in list(datos[datos.KMeans_clustering==0].index-1)]}\n",
    "\n",
    "\n",
    "transp_zones_json2={'type': 'FeatureCollection',\n",
    " 'name': 'zonas_de_trasporte',\n",
    " 'crs': {'type': 'name',\n",
    "  'properties': {'name': 'urn:ogc:def:crs:OGC:1.3:CRS84'}},\n",
    " 'features':[transp_zones_json['features'][z] for z in list(datos[datos.KMeans_clustering==1].index-1)]}\n"
   ]
  },
  {
   "cell_type": "code",
   "execution_count": null,
   "id": "9dc29817",
   "metadata": {},
   "outputs": [],
   "source": []
  },
  {
   "cell_type": "markdown",
   "metadata": {},
   "source": [
    "### <a id='toc1_4_1_'></a>[Zonas del cluster 0 (azul) vs zonas del cluster 1 (rojo)](#toc0_)"
   ]
  },
  {
   "cell_type": "code",
   "execution_count": null,
   "id": "speaking-elizabeth",
   "metadata": {},
   "outputs": [],
   "source": [
    "map = folium.Map(location=[23.0826, -82.2845], zoom_start=11, tiles='openstreetmap')\n",
    "\n",
    "zones_geojson1 = folium.GeoJson(transp_zones_json1, \n",
    "                               style_function = lambda x: {'weight': 1.5, 'fillOpacity' : .1,'color' : 'blue'}, \n",
    "                               tooltip=folium.features.GeoJsonTooltip(fields = ['NO_DE_ZONA']))\n",
    "\n",
    "zones_geojson2 = folium.GeoJson(transp_zones_json2, \n",
    "                               style_function = lambda x: {'weight': 1.5, 'fillOpacity' : .1,'color' : 'red'}, \n",
    "                               tooltip=folium.features.GeoJsonTooltip(fields = ['NO_DE_ZONA']))\n",
    "\n",
    "zones_geojson0 = folium.GeoJson(transp_zones_json0, \n",
    "                               style_function = lambda x: {'weight': 1.5, 'fillOpacity' : .1,'color' : 'black'}, \n",
    "                               tooltip=folium.features.GeoJsonTooltip(fields = ['NO_DE_ZONA']))\n",
    "# Para dejar un solo layer cometar aqui\n",
    "\n",
    "zones_geojson0.add_to(map)\n",
    "zones_geojson1.add_to(map)\n",
    "zones_geojson2.add_to(map)"
   ]
  },
  {
   "cell_type": "code",
   "execution_count": null,
   "id": "52be37dc",
   "metadata": {},
   "outputs": [],
   "source": [
    "map\n"
   ]
  }
 ],
 "metadata": {
  "kernelspec": {
   "display_name": "Python 3",
   "language": "python",
   "name": "python3"
  },
  "language_info": {
   "codemirror_mode": {
    "name": "ipython",
    "version": 3
   },
   "file_extension": ".py",
   "mimetype": "text/x-python",
   "name": "python",
   "nbconvert_exporter": "python",
   "pygments_lexer": "ipython3",
   "version": "3.9.13"
  }
 },
 "nbformat": 4,
 "nbformat_minor": 5
}
