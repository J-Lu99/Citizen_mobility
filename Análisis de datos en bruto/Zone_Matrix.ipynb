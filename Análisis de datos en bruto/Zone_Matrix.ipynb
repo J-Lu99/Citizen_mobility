{
 "cells": [
  {
   "cell_type": "markdown",
   "id": "79ff1271",
   "metadata": {},
   "source": [
    "# LLevar datos de torres a zonas de transporte"
   ]
  },
  {
   "cell_type": "markdown",
   "id": "9355d19d",
   "metadata": {},
   "source": [
    "#### Definir en los parámetros de entrada si deben seleccionarse todos los ciudadanos o solo los estables"
   ]
  },
  {
   "cell_type": "markdown",
   "id": "be95472e",
   "metadata": {},
   "source": [
    "-----\n",
    "**Table of contents**<a id='toc0_'></a>    \n",
    "- [General](#toc1_1_)    \n",
    "- [Funciones](#toc1_2_)    \n",
    "- [_Main_](#toc1_3_)    \n",
    "\n",
    "<!-- vscode-jupyter-toc-config\n",
    "\tnumbering=false\n",
    "\tanchor=true\n",
    "\tflat=false\n",
    "\tminLevel=1\n",
    "\tmaxLevel=6\n",
    "\t/vscode-jupyter-toc-config -->\n",
    "<!-- THIS CELL WILL BE REPLACED ON TOC UPDATE. DO NOT WRITE YOUR TEXT IN THIS CELL -->\n",
    "----"
   ]
  },
  {
   "cell_type": "markdown",
   "id": "71cd48e1",
   "metadata": {},
   "source": [
    "## <a id='toc1_1_'></a>[General](#toc0_)"
   ]
  },
  {
   "cell_type": "code",
   "execution_count": null,
   "id": "914c226a",
   "metadata": {},
   "outputs": [],
   "source": [
    "import pickle\n",
    "import os\n",
    "import numpy as np\n",
    "import pandas as pd\n",
    "import itertools as it\n",
    "from tqdm import tqdm as tqdm\n",
    "import itertools as it\n",
    "\n",
    "general_directory=os.getcwd()+'\\\\Data\\\\'\n",
    "\n",
    "cases=('allt','hw','mo','no')\n",
    "st=('st','unst')\n",
    "days=('all','week')\n",
    "allc=(('allt','st','week'),('allt','unst','week'),('allt','unst','all'),('hw','st','week'),('mo','st','week'),('mo','unst','all'),('no','st','week'),('no','unst','all'))\n"
   ]
  },
  {
   "cell_type": "markdown",
   "id": "57a3a9f3",
   "metadata": {},
   "source": [
    "----\n",
    "## <a id='toc1_2_'></a>[Funciones](#toc0_)"
   ]
  },
  {
   "cell_type": "code",
   "execution_count": null,
   "id": "573b656f",
   "metadata": {},
   "outputs": [],
   "source": [
    "def get_days():\n",
    "    if not os.path.isdir(general_directory): os.mkdir('Data')\n",
    "    if not os.path.isdir(general_directory+'Days'): os.mkdir(general_directory+'Days')\n",
    "    days=[i for i in os.listdir(general_directory+'Days') if i[-3:]=='dat']\n",
    "    days.sort()\n",
    "    if sys.argv[1]=='week':\n",
    "        days=[days[i][0:10] for i in range(len(days)) if all([(i-j)%7 != 0 for j in [3,4]])]\n",
    "    return days"
   ]
  },
  {
   "cell_type": "code",
   "execution_count": null,
   "id": "ec848584",
   "metadata": {},
   "outputs": [],
   "source": [
    "def save_dataP(name,dictionary,location=general_directory):\n",
    "\n",
    "    with open(location+'Saves/'+ name+'.pkl', 'wb') as tf:\n",
    "        pickle.dump(dictionary,tf)"
   ]
  },
  {
   "cell_type": "code",
   "execution_count": null,
   "id": "96167ee6",
   "metadata": {},
   "outputs": [],
   "source": [
    "def load_hist(day,case,st):\n",
    "    with open(general_directory+'Saves/'+day[6:10]+'_'+case+'_'+st+'_hist.pkl','r+b') as pk:\n",
    "        hist=pickle.load(pk)\n",
    "    return hist\n",
    "\n",
    "\n",
    "def load_mat(day,case,st):\n",
    "    m=np.genfromtxt(general_directory+'Saves/'+day[6:10]+'_'+case+'_'+st+'_mat.csv',delimiter=',')\n",
    "    return m\n"
   ]
  },
  {
   "cell_type": "code",
   "execution_count": null,
   "id": "9f88ad68",
   "metadata": {},
   "outputs": [],
   "source": [
    "def mean(case,st):\n",
    "    Mm=0\n",
    "    Mh=0\n",
    "    with tqdm(desc=\"Mean of cases \"+case,total=2*len(days)) as pbar:\n",
    "        for day in days:\n",
    "            Mm+=load_mat(day,case,st)\n",
    "            pbar.update()\n",
    "        np.savetxt(general_directory+'/Saves/Meanm_'+case+'_'+st+'_'+sys.argv[1]+'.csv',Mm/N,delimiter=',')\n",
    "        for day in days:\n",
    "            Mh+=load_hist(day,case,st)\n",
    "            pbar.update()\n",
    "        save_dataP('Meanh_'+case+'_'+st+'_'+sys.argv[1],Mh/N)"
   ]
  },
  {
   "cell_type": "code",
   "execution_count": null,
   "id": "b1f46e6e",
   "metadata": {},
   "outputs": [],
   "source": [
    "\n",
    "def load_mat(case,st,days):\n",
    "    m=np.genfromtxt(general_directory+'Saves\\\\Meanm_'+case+'_'+st+'_'+days+'.csv',delimiter=',')\n",
    "    return m\n"
   ]
  },
  {
   "cell_type": "code",
   "execution_count": null,
   "id": "45ad59b7",
   "metadata": {},
   "outputs": [],
   "source": [
    "def matrixxz(case,st,days):\n",
    "    matrix_t=load_mat(case,st,days)\n",
    "    matrix_z=np.zeros((134,134))\n",
    "    matrix_t=pd.DataFrame(matrix_t,index=towers,columns=towers)\n",
    "    for comb in list(it.product(range(1,135),repeat=2)):\n",
    "        erow=towers_prop[towers_prop['category']==comb[0]]\n",
    "        ecol=towers_prop[towers_prop['category']==comb[1]]\n",
    "        for r in erow['id']:\n",
    "            for c in ecol['id']:\n",
    "                matrix_z[comb[0]-1][comb[1]-1]+=matrix_t[r][c]*list(erow[towers_prop['id']==r]['percent'])[0]*list(ecol[towers_prop['id']==c]['percent'])[0]/10000\n",
    "    print(sum(sum(matrix_z)))\n",
    "    np.savetxt(general_directory+'Saves\\\\ZMeanm_'+case+'_'+st+'_'+days+'.csv',matrix_z,delimiter=',')\n",
    "    return matrix_z"
   ]
  },
  {
   "cell_type": "code",
   "execution_count": null,
   "id": "39800e81",
   "metadata": {},
   "outputs": [],
   "source": [
    "def matrix_z(case,st,days):\n",
    "    matrix_t=load_mat(case,st,days)\n",
    "    matrixz=np.zeros((134,134))\n",
    "    with tqdm(desc=\"Charging zones \"+case+'_'+st+'_'+days,total=pow(len(towers),2)) as pbar:\n",
    "        for i in range(len(towers)):\n",
    "            for j in range(len(towers)):\n",
    "                erow=towers_prop[towers_prop['id']==towers[i]]\n",
    "                ecol=towers_prop[towers_prop['id']==towers[j]]\n",
    "                for r in range(len(erow['category'])):\n",
    "                    for c in range(len(ecol['category'])):\n",
    "                        matrixz[int(erow['category'].iloc[r])-1][int(ecol['category'].iloc[c])-1]+=matrix_t[i][j]*erow['percent'].iloc[r]*ecol['percent'].iloc[c]/10000\n",
    "                pbar.update()\n",
    "    np.savetxt(general_directory+'Saves\\\\ZMeanm_'+case+'_'+st+'_'+days+'.csv',matrixz,delimiter=',')\n",
    "    print('Encontrados '+str(sum(sum(matrixz)))+ 'y la original '+ str(sum(sum(pd.DataFrame(load_mat('allt','st','all'),index=towers,columns=towers).drop(towers[-4:]).drop(towers[-4:],axis=1).to_numpy())) ) )\n",
    "    "
   ]
  },
  {
   "cell_type": "markdown",
   "metadata": {},
   "source": [
    "----\n",
    "## <a id='toc1_3_'></a>[_Main_](#toc0_)"
   ]
  },
  {
   "cell_type": "code",
   "execution_count": null,
   "id": "de52a4c1",
   "metadata": {},
   "outputs": [],
   "source": [
    "def main():\n",
    "        days=get_days()\n",
    "        try:\n",
    "                with open(general_directory+'Saves/Towers.pkl','r+b') as pk:\n",
    "                        towers=pickle.load(pk)\n",
    "        except FileNotFoundError:\n",
    "                print('You need the file Towers.pkl')\n",
    "        try: \n",
    "                towers_prop=pd.read_csv(general_directory+'\\\\zt_havana_tower.csv').drop_duplicates().drop_duplicates(subset=['id','category'],keep='first')\n",
    "                for i in list(towers_prop['id'].unique()):\n",
    "                        if 99.5>=sum(towers_prop[towers_prop['id']==i]['percent']) or sum(towers_prop[towers_prop['id']==i]['percent'])>=100.5:\n",
    "                                towers_prop.drop(towers_prop[towers_prop['id']==i].index[-1],inplace=True)       \n",
    "        except FileNotFoundError:\n",
    "            print('You need the file zt_havana_tower.csv')\n",
    "\n",
    "        for i in list(towers_prop['id'].unique()):\n",
    "                if 99.5>=sum(towers_prop[towers_prop['id']==i]['percent']) or sum(towers_prop[towers_prop['id']==i]['percent'])>=100.5:\n",
    "                        towers_prop.drop(towers_prop[towers_prop['id']==i].index[-1],inplace=True)\n",
    "\n",
    "        for c in allc: \n",
    "            matrix_z(*c)\n",
    "        print('All matrixes done')"
   ]
  },
  {
   "cell_type": "code",
   "execution_count": null,
   "id": "a94714e1",
   "metadata": {},
   "outputs": [],
   "source": [
    "main()"
   ]
  }
 ],
 "metadata": {
  "kernelspec": {
   "display_name": "Python 3 (ipykernel)",
   "language": "python",
   "name": "python3"
  },
  "language_info": {
   "codemirror_mode": {
    "name": "ipython",
    "version": 3
   },
   "file_extension": ".py",
   "mimetype": "text/x-python",
   "name": "python",
   "nbconvert_exporter": "python",
   "pygments_lexer": "ipython3",
   "version": "3.9.13"
  }
 },
 "nbformat": 4,
 "nbformat_minor": 5
}
