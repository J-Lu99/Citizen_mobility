{
 "cells": [
  {
   "cell_type": "markdown",
   "id": "79ff1271",
   "metadata": {},
   "source": [
    "# LLevar datos de torres a zonas de transporte"
   ]
  },
  {
   "cell_type": "markdown",
   "id": "9355d19d",
   "metadata": {},
   "source": [
    "#### Definir en los parámetros de entrada si deben seleccionarse todos los ciudadanos o solo los estables"
   ]
  },
  {
   "cell_type": "markdown",
   "id": "be95472e",
   "metadata": {},
   "source": [
    "-----\n",
    "**Table of contents**<a id='toc0_'></a>    \n",
    "- [General](#toc1_1_)    \n",
    "- [Funciones](#toc1_2_)    \n",
    "- [_Main_](#toc1_3_)    \n",
    "\n",
    "<!-- vscode-jupyter-toc-config\n",
    "\tnumbering=false\n",
    "\tanchor=true\n",
    "\tflat=false\n",
    "\tminLevel=1\n",
    "\tmaxLevel=6\n",
    "\t/vscode-jupyter-toc-config -->\n",
    "<!-- THIS CELL WILL BE REPLACED ON TOC UPDATE. DO NOT WRITE YOUR TEXT IN THIS CELL -->\n",
    "----"
   ]
  },
  {
   "cell_type": "markdown",
   "id": "71cd48e1",
   "metadata": {},
   "source": [
    "## <a id='toc1_1_'></a>[General](#toc0_)"
   ]
  },
  {
   "cell_type": "code",
   "execution_count": 11,
   "id": "914c226a",
   "metadata": {},
   "outputs": [],
   "source": [
    "import pickle\n",
    "import os\n",
    "import numpy as np\n",
    "import pandas as pd\n",
    "import itertools as it\n",
    "from tqdm import tqdm as tqdm\n",
    "import itertools as it\n",
    "\n",
    "general_directory=os.getcwd()+'\\\\Data\\\\'\n",
    "\n",
    "cases=('allt','hw','mo','no')\n",
    "st=('st','unst')\n",
    "days=('all','week')\n",
    "allc=(('allt','st','week'),('allt','unst','week'),('allt','unst','all'),('hw','st','week'),('mo','st','week'),('mo','unst','all'),('no','st','week'),('no','unst','all'))\n"
   ]
  },
  {
   "cell_type": "markdown",
   "id": "57a3a9f3",
   "metadata": {},
   "source": [
    "----\n",
    "## <a id='toc1_2_'></a>[Funciones](#toc0_)"
   ]
  },
  {
   "cell_type": "code",
   "execution_count": 12,
   "id": "573b656f",
   "metadata": {},
   "outputs": [],
   "source": [
    "def get_days():\n",
    "    if not os.path.isdir(general_directory): os.mkdir('Data')\n",
    "    if not os.path.isdir(general_directory+'Days'): os.mkdir(general_directory+'Days')\n",
    "    days=[i for i in os.listdir(general_directory+'Days') if i[-3:]=='dat']\n",
    "    days.sort()\n",
    "    if sys.argv[1]=='week':\n",
    "        days=[days[i][0:10] for i in range(len(days)) if all([(i-j)%7 != 0 for j in [3,4]])]\n",
    "    return days"
   ]
  },
  {
   "cell_type": "code",
   "execution_count": 13,
   "id": "ec848584",
   "metadata": {},
   "outputs": [],
   "source": [
    "def save_dataP(name,dictionary,location=general_directory):\n",
    "\n",
    "    with open(location+'Saves/'+ name+'.pkl', 'wb') as tf:\n",
    "        pickle.dump(dictionary,tf)"
   ]
  },
  {
   "cell_type": "code",
   "execution_count": 14,
   "id": "96167ee6",
   "metadata": {},
   "outputs": [],
   "source": [
    "def load_hist(day,case,st):\n",
    "    with open(general_directory+'Saves/'+day[6:10]+'_'+case+'_'+st+'_hist.pkl','r+b') as pk:\n",
    "        hist=pickle.load(pk)\n",
    "    return hist\n",
    "\n",
    "\n",
    "def load_mat(day,case,st):\n",
    "    m=np.genfromtxt(general_directory+'Saves/'+day[6:10]+'_'+case+'_'+st+'_mat.csv',delimiter=',')\n",
    "    return m\n"
   ]
  },
  {
   "cell_type": "code",
   "execution_count": 15,
   "id": "9f88ad68",
   "metadata": {},
   "outputs": [],
   "source": [
    "def mean(case,st):\n",
    "    Mm=0\n",
    "    Mh=0\n",
    "    with tqdm(desc=\"Mean of cases \"+case,total=2*len(days)) as pbar:\n",
    "        for day in days:\n",
    "            Mm+=load_mat(day,case,st)\n",
    "            pbar.update()\n",
    "        np.savetxt(general_directory+'/Saves/Meanm_'+case+'_'+st+'_'+sys.argv[1]+'.csv',Mm/N,delimiter=',')\n",
    "        for day in days:\n",
    "            Mh+=load_hist(day,case,st)\n",
    "            pbar.update()\n",
    "        save_dataP('Meanh_'+case+'_'+st+'_'+sys.argv[1],Mh/N)"
   ]
  },
  {
   "cell_type": "code",
   "execution_count": 16,
   "id": "b1f46e6e",
   "metadata": {},
   "outputs": [],
   "source": [
    "\n",
    "def load_mat(case,st,days):\n",
    "    m=np.genfromtxt(general_directory+'Saves\\\\Meanm_'+case+'_'+st+'_'+days+'.csv',delimiter=',')\n",
    "    return m\n"
   ]
  },
  {
   "cell_type": "code",
   "execution_count": 17,
   "id": "45ad59b7",
   "metadata": {},
   "outputs": [],
   "source": [
    "def matrixxz(case,st,days):\n",
    "    matrix_t=load_mat(case,st,days)\n",
    "    matrix_z=np.zeros((134,134))\n",
    "    matrix_t=pd.DataFrame(matrix_t,index=towers,columns=towers)\n",
    "    for comb in list(it.product(range(1,135),repeat=2)):\n",
    "        erow=towers_prop[towers_prop['category']==comb[0]]\n",
    "        ecol=towers_prop[towers_prop['category']==comb[1]]\n",
    "        for r in erow['id']:\n",
    "            for c in ecol['id']:\n",
    "                matrix_z[comb[0]-1][comb[1]-1]+=matrix_t[r][c]*list(erow[towers_prop['id']==r]['percent'])[0]*list(ecol[towers_prop['id']==c]['percent'])[0]/10000\n",
    "    print(sum(sum(matrix_z)))\n",
    "    np.savetxt(general_directory+'Saves\\\\ZMeanm_'+case+'_'+st+'_'+days+'.csv',matrix_z,delimiter=',')\n",
    "    return matrix_z"
   ]
  },
  {
   "cell_type": "code",
   "execution_count": 18,
   "id": "39800e81",
   "metadata": {},
   "outputs": [],
   "source": [
    "def matrix_z(case,st,days):\n",
    "    matrix_t=load_mat(case,st,days)\n",
    "    matrixz=np.zeros((134,134))\n",
    "    with tqdm(desc=\"Charging zones \"+case+'_'+st+'_'+days,total=pow(len(towers),2)) as pbar:\n",
    "        for i in range(len(towers)):\n",
    "            for j in range(len(towers)):\n",
    "                erow=towers_prop[towers_prop['id']==towers[i]]\n",
    "                ecol=towers_prop[towers_prop['id']==towers[j]]\n",
    "                for r in range(len(erow['category'])):\n",
    "                    for c in range(len(ecol['category'])):\n",
    "                        matrixz[int(erow['category'].iloc[r])-1][int(ecol['category'].iloc[c])-1]+=matrix_t[i][j]*erow['percent'].iloc[r]*ecol['percent'].iloc[c]/10000\n",
    "                pbar.update()\n",
    "    np.savetxt(general_directory+'Saves\\\\ZMeanm_'+case+'_'+st+'_'+days+'.csv',matrixz,delimiter=',')\n",
    "    print('Encontrados '+str(sum(sum(matrixz)))+ 'y la original '+ str(sum(sum(pd.DataFrame(load_mat('allt','st','all'),index=towers,columns=towers).drop(towers[-4:]).drop(towers[-4:],axis=1).to_numpy())) ) )\n",
    "    "
   ]
  },
  {
   "cell_type": "markdown",
   "metadata": {},
   "source": [
    "----\n",
    "## <a id='toc1_3_'></a>[_Main_](#toc0_)"
   ]
  },
  {
   "cell_type": "code",
   "execution_count": 19,
   "id": "de52a4c1",
   "metadata": {},
   "outputs": [],
   "source": [
    "def main():\n",
    "        days=get_days()\n",
    "        try:\n",
    "                with open(general_directory+'Saves/Towers.pkl','r+b') as pk:\n",
    "                        towers=pickle.load(pk)\n",
    "        except FileNotFoundError:\n",
    "                print('You need the file Towers.pkl')\n",
    "        try: \n",
    "                towers_prop=pd.read_csv(general_directory+'\\\\zt_havana_tower.csv').drop_duplicates().drop_duplicates(subset=['id','category'],keep='first')\n",
    "                for i in list(towers_prop['id'].unique()):\n",
    "                        if 99.5>=sum(towers_prop[towers_prop['id']==i]['percent']) or sum(towers_prop[towers_prop['id']==i]['percent'])>=100.5:\n",
    "                                towers_prop.drop(towers_prop[towers_prop['id']==i].index[-1],inplace=True)       \n",
    "        except FileNotFoundError:\n",
    "            print('You need the file zt_havana_tower.csv')\n",
    "\n",
    "        for i in list(towers_prop['id'].unique()):\n",
    "                if 99.5>=sum(towers_prop[towers_prop['id']==i]['percent']) or sum(towers_prop[towers_prop['id']==i]['percent'])>=100.5:\n",
    "                        towers_prop.drop(towers_prop[towers_prop['id']==i].index[-1],inplace=True)\n",
    "\n",
    "        for c in allc: \n",
    "            matrix_z(*c)\n",
    "        print('All matrixes done')"
   ]
  },
  {
   "cell_type": "code",
   "execution_count": 8,
   "id": "a94714e1",
   "metadata": {},
   "outputs": [
    {
     "name": "stderr",
     "output_type": "stream",
     "text": [
      "Charging zones:   0%|                                                                            | 0/8 [00:00<?, ?it/s]\n",
      "Charging zones allt_st_week:   0%|                                                           | 0/96100 [00:00<?, ?it/s]\u001b[A\n",
      "Charging zones allt_st_week:   0%|                                                 | 46/96100 [00:00<03:40, 436.34it/s]\u001b[A\n",
      "Charging zones allt_st_week:   0%|                                                 | 90/96100 [00:00<03:58, 401.93it/s]\u001b[A\n",
      "Charging zones allt_st_week:   0%|                                                | 134/96100 [00:00<04:04, 393.13it/s]\u001b[A\n",
      "Charging zones allt_st_week:   0%|                                                | 174/96100 [00:00<04:28, 357.91it/s]\u001b[A\n",
      "Charging zones allt_st_week:   0%|                                                | 211/96100 [00:00<04:50, 330.00it/s]\u001b[A\n",
      "Charging zones allt_st_week:   0%|                                                | 250/96100 [00:00<04:41, 340.78it/s]\u001b[A\n",
      "Charging zones allt_st_week:   0%|▏                                               | 286/96100 [00:00<04:36, 345.97it/s]\u001b[A\n",
      "Charging zones allt_st_week:   0%|▏                                               | 321/96100 [00:01<06:04, 263.00it/s]\u001b[A\n",
      "Charging zones allt_st_week:   0%|▏                                               | 358/96100 [00:01<05:35, 284.97it/s]\u001b[A\n",
      "Charging zones allt_st_week:   0%|▏                                               | 401/96100 [00:01<05:08, 310.07it/s]\u001b[A\n",
      "Charging zones allt_st_week:   0%|▏                                               | 436/96100 [00:01<04:58, 320.13it/s]\u001b[A\n",
      "Charging zones allt_st_week:   0%|▏                                               | 470/96100 [00:01<04:54, 325.14it/s]\u001b[A\n",
      "Charging zones allt_st_week:   1%|▎                                               | 504/96100 [00:01<07:45, 205.44it/s]\u001b[A\n",
      "Charging zones allt_st_week:   1%|▎                                               | 531/96100 [00:01<07:46, 204.83it/s]\u001b[A\n",
      "Charging zones allt_st_week:   1%|▎                                               | 560/96100 [00:01<07:21, 216.42it/s]\u001b[A\n",
      "Charging zones allt_st_week:   1%|▎                                               | 597/96100 [00:02<06:32, 243.31it/s]\u001b[A\n",
      "Charging zones allt_st_week:   1%|▎                                               | 627/96100 [00:02<06:12, 256.00it/s]\u001b[A\n",
      "Charging zones allt_st_week:   1%|▎                                               | 663/96100 [00:02<05:50, 272.49it/s]\u001b[A\n",
      "Charging zones allt_st_week:   1%|▎                                               | 697/96100 [00:02<05:29, 289.69it/s]\u001b[A\n",
      "Charging zones allt_st_week:   1%|▎                                               | 740/96100 [00:02<05:03, 314.53it/s]\u001b[A\n",
      "Charging zones allt_st_week:   1%|▍                                               | 776/96100 [00:02<04:52, 325.91it/s]\u001b[A\n",
      "Charging zones allt_st_week:   1%|▍                                               | 810/96100 [00:02<04:56, 321.85it/s]\u001b[A\n",
      "Charging zones allt_st_week:   1%|▍                                               | 843/96100 [00:03<07:58, 199.23it/s]\u001b[A\n",
      "Charging zones allt_st_week:   1%|▍                                               | 869/96100 [00:03<07:51, 201.95it/s]\u001b[A\n",
      "Charging zones allt_st_week:   1%|▍                                               | 894/96100 [00:03<07:29, 211.82it/s]\u001b[A\n",
      "Charging zones allt_st_week:   1%|▍                                               | 919/96100 [00:03<10:59, 144.39it/s]\u001b[A\n",
      "Charging zones allt_st_week:   1%|▍                                               | 942/96100 [00:03<09:56, 159.44it/s]\u001b[A\n",
      "Charging zones allt_st_week:   1%|▍                                               | 977/96100 [00:03<08:07, 194.99it/s]\u001b[A\n",
      "Charging zones allt_st_week:   1%|▍                                              | 1012/96100 [00:03<07:08, 221.88it/s]\u001b[A\n",
      "Charging zones allt_st_week:   1%|▌                                              | 1052/96100 [00:04<06:13, 254.53it/s]\u001b[A\n",
      "Charging zones allt_st_week:   1%|▌                                              | 1081/96100 [00:04<07:41, 205.98it/s]\u001b[A\n",
      "Charging zones allt_st_week:   1%|▌                                              | 1106/96100 [00:04<08:44, 180.99it/s]\u001b[A\n",
      "Charging zones allt_st_week:   1%|▌                                              | 1141/96100 [00:04<07:33, 209.50it/s]\u001b[A\n",
      "Charging zones allt_st_week:   1%|▌                                              | 1179/96100 [00:04<06:36, 239.12it/s]\u001b[A\n",
      "Charging zones allt_st_week:   1%|▌                                              | 1206/96100 [00:04<08:55, 177.11it/s]\u001b[A\n",
      "Charging zones allt_st_week:   1%|▌                                              | 1228/96100 [00:05<08:39, 182.74it/s]\u001b[A\n",
      "Charging zones allt_st_week:   1%|▌                                              | 1264/96100 [00:05<07:14, 218.38it/s]\u001b[A\n",
      "Charging zones allt_st_week:   1%|▋                                              | 1293/96100 [00:05<06:44, 234.29it/s]\u001b[A\n",
      "Charging zones allt_st_week:   1%|▋                                              | 1320/96100 [00:05<09:15, 170.64it/s]\u001b[A\n",
      "Charging zones allt_st_week:   1%|▋                                              | 1342/96100 [00:05<08:58, 175.88it/s]\u001b[A\n",
      "Charging zones allt_st_week:   1%|▋                                              | 1363/96100 [00:05<08:37, 183.17it/s]\u001b[A\n",
      "Charging zones allt_st_week:   1%|▋                                              | 1384/96100 [00:06<11:07, 141.87it/s]\u001b[A\n",
      "Charging zones allt_st_week:   1%|▋                                              | 1402/96100 [00:06<10:44, 146.88it/s]\u001b[A\n",
      "Charging zones allt_st_week:   1%|▋                                              | 1427/96100 [00:06<09:18, 169.54it/s]\u001b[A\n",
      "Charging zones allt_st_week:   2%|▋                                              | 1447/96100 [00:06<11:43, 134.47it/s]\u001b[A\n",
      "Charging zones allt_st_week:   2%|▋                                              | 1466/96100 [00:06<10:50, 145.45it/s]\u001b[A\n",
      "Charging zones allt_st_week:   2%|▋                                              | 1491/96100 [00:06<09:19, 169.21it/s]\u001b[A\n",
      "Charging zones allt_st_week:   2%|▋                                              | 1511/96100 [00:06<12:21, 127.54it/s]\u001b[A\n",
      "Charging zones allt_st_week:   2%|▋                                              | 1529/96100 [00:07<11:27, 137.65it/s]\u001b[A\n",
      "Charging zones allt_st_week:   2%|▊                                              | 1565/96100 [00:07<08:35, 183.24it/s]\u001b[A\n",
      "Charging zones allt_st_week:   2%|▊                                              | 1593/96100 [00:07<07:38, 206.04it/s]\u001b[A\n",
      "Charging zones allt_st_week:   2%|▊                                              | 1617/96100 [00:07<07:35, 207.61it/s]\u001b[A\n",
      "Charging zones allt_st_week:   2%|▊                                              | 1643/96100 [00:07<07:08, 220.46it/s]\u001b[A\n",
      "Charging zones allt_st_week:   2%|▊                                              | 1674/96100 [00:07<06:28, 243.22it/s]\u001b[A\n",
      "Charging zones allt_st_week:   2%|▊                                              | 1700/96100 [00:07<06:37, 237.36it/s]\u001b[A\n",
      "Charging zones allt_st_week:   2%|▊                                              | 1740/96100 [00:07<05:47, 271.53it/s]\u001b[A\n",
      "Charging zones allt_st_week:   2%|▊                                              | 1780/96100 [00:07<05:07, 306.43it/s]\u001b[A\n",
      "Charging zones allt_st_week:   2%|▉                                              | 1819/96100 [00:07<04:57, 316.39it/s]\u001b[A\n",
      "Charging zones allt_st_week:   2%|▉                                              | 1852/96100 [00:08<05:06, 307.11it/s]\u001b[A\n",
      "Charging zones allt_st_week:   2%|▉                                              | 1884/96100 [00:08<05:23, 291.17it/s]\u001b[A\n",
      "Charging zones allt_st_week:   2%|▉                                              | 1924/96100 [00:08<05:00, 313.31it/s]\u001b[A\n",
      "Charging zones allt_st_week:   2%|▉                                              | 1958/96100 [00:08<04:54, 319.80it/s]\u001b[A\n",
      "Charging zones allt_st_week:   2%|▉                                              | 1991/96100 [00:08<06:27, 242.76it/s]\u001b[A\n",
      "Charging zones allt_st_week:   2%|▉                                              | 2019/96100 [00:08<07:11, 218.00it/s]\u001b[A\n",
      "Charging zones allt_st_week:   2%|▉                                              | 2044/96100 [00:08<07:13, 217.13it/s]\u001b[A\n",
      "Charging zones allt_st_week:   2%|█                                              | 2068/96100 [00:09<07:04, 221.49it/s]\u001b[A\n",
      "Charging zones allt_st_week:   2%|█                                              | 2101/96100 [00:09<06:18, 248.13it/s]\u001b[A\n",
      "Charging zones allt_st_week:   2%|█                                              | 2142/96100 [00:09<05:30, 284.57it/s]\u001b[A\n",
      "Charging zones allt_st_week:   2%|█                                              | 2181/96100 [00:09<05:00, 312.57it/s]\u001b[A\n",
      "Charging zones allt_st_week:   2%|█                                              | 2229/96100 [00:09<04:32, 344.58it/s]\u001b[A\n",
      "Charging zones allt_st_week:   2%|█                                              | 2269/96100 [00:09<04:21, 359.50it/s]\u001b[A\n",
      "Charging zones allt_st_week:   2%|█▏                                             | 2306/96100 [00:09<06:10, 252.97it/s]\u001b[A\n",
      "Charging zones allt_st_week:   2%|█▏                                             | 2337/96100 [00:09<06:37, 235.64it/s]\u001b[A\n",
      "Charging zones allt_st_week:   2%|█▏                                             | 2377/96100 [00:10<05:46, 270.78it/s]\u001b[A\n",
      "Charging zones allt_st_week:   3%|█▏                                             | 2420/96100 [00:10<05:04, 307.60it/s]\u001b[A\n",
      "Charging zones allt_st_week:   3%|█▏                                             | 2461/96100 [00:10<04:42, 330.93it/s]\u001b[A\n",
      "Charging zones allt_st_week:   3%|█▏                                             | 2497/96100 [00:10<06:51, 227.29it/s]\u001b[A\n",
      "Charging zones allt_st_week:   3%|█▏                                             | 2526/96100 [00:10<08:40, 179.86it/s]\u001b[A\n",
      "Charging zones allt_st_week:   3%|█▏                                             | 2550/96100 [00:10<08:32, 182.47it/s]\u001b[A\n",
      "Charging zones allt_st_week:   3%|█▎                                             | 2573/96100 [00:11<10:05, 154.41it/s]\u001b[A\n",
      "Charging zones allt_st_week:   3%|█▎                                             | 2592/96100 [00:11<11:03, 140.99it/s]\u001b[A\n",
      "Charging zones allt_st_week:   3%|█▎                                             | 2609/96100 [00:11<10:54, 142.90it/s]\u001b[A\n",
      "Charging zones allt_st_week:   3%|█▎                                             | 2626/96100 [00:11<12:11, 127.73it/s]\u001b[A\n",
      "Charging zones allt_st_week:   3%|█▎                                             | 2640/96100 [00:11<12:21, 126.03it/s]\u001b[A\n",
      "Charging zones allt_st_week:   3%|█▎                                             | 2654/96100 [00:11<12:27, 125.07it/s]\u001b[A\n",
      "Charging zones allt_st_week:   3%|█▎                                             | 2688/96100 [00:11<08:56, 173.96it/s]\u001b[A\n",
      "Charging zones allt_st_week:   3%|█▎                                             | 2722/96100 [00:12<07:16, 214.17it/s]\u001b[A\n",
      "Charging zones allt_st_week:   3%|█▎                                             | 2759/96100 [00:12<06:19, 245.90it/s]\u001b[A\n",
      "Charging zones allt_st_week:   3%|█▎                                             | 2786/96100 [00:12<06:12, 250.28it/s]\u001b[A\n",
      "Charging zones allt_st_week:   3%|█▍                                             | 2828/96100 [00:12<05:26, 285.91it/s]\u001b[A\n",
      "Charging zones allt_st_week:   3%|█▍                                             | 2864/96100 [00:12<05:04, 305.72it/s]\u001b[A\n",
      "Charging zones allt_st_week:   3%|█▍                                             | 2906/96100 [00:12<04:46, 324.97it/s]\u001b[A\n",
      "Charging zones allt_st_week:   3%|█▍                                             | 2939/96100 [00:12<07:26, 208.83it/s]\u001b[A\n",
      "Charging zones allt_st_week:   3%|█▍                                             | 2966/96100 [00:13<08:46, 176.76it/s]\u001b[A\n",
      "Charging zones allt_st_week:   3%|█▍                                             | 2989/96100 [00:13<11:26, 135.62it/s]\u001b[A\n",
      "Charging zones allt_st_week:   3%|█▍                                             | 3007/96100 [00:13<13:17, 116.76it/s]\u001b[A\n",
      "Charging zones allt_st_week:   3%|█▍                                             | 3022/96100 [00:13<14:43, 105.33it/s]\u001b[A\n",
      "Charging zones allt_st_week:   3%|█▍                                             | 3035/96100 [00:14<15:22, 100.89it/s]\u001b[A\n",
      "Charging zones allt_st_week:   3%|█▌                                              | 3047/96100 [00:14<16:21, 94.81it/s]\u001b[A\n",
      "Charging zones allt_st_week:   3%|█▌                                              | 3059/96100 [00:14<15:46, 98.29it/s]\u001b[A\n",
      "Charging zones allt_st_week:   3%|█▌                                              | 3071/96100 [00:14<15:36, 99.38it/s]\u001b[A\n",
      "Charging zones allt_st_week:   3%|█▌                                             | 3089/96100 [00:14<13:15, 116.93it/s]\u001b[A\n",
      "Charging zones allt_st_week:   3%|█▌                                             | 3102/96100 [00:14<14:57, 103.60it/s]\u001b[A\n",
      "Charging zones allt_st_week:   3%|█▌                                              | 3114/96100 [00:14<18:43, 82.80it/s]\u001b[A\n",
      "Charging zones allt_st_week:   3%|█▌                                              | 3124/96100 [00:15<19:08, 80.93it/s]\u001b[A\n",
      "Charging zones allt_st_week:   3%|█▌                                              | 3133/96100 [00:15<21:59, 70.47it/s]\u001b[A\n",
      "Charging zones allt_st_week:   3%|█▌                                              | 3141/96100 [00:15<23:52, 64.89it/s]\u001b[A\n",
      "Charging zones allt_st_week:   3%|█▌                                              | 3152/96100 [00:15<21:22, 72.46it/s]\u001b[A\n",
      "Charging zones allt_st_week:   3%|█▌                                              | 3168/96100 [00:15<17:18, 89.52it/s]\u001b[A\n",
      "Charging zones allt_st_week:   3%|█▌                                             | 3205/96100 [00:15<10:10, 152.23it/s]\u001b[A\n",
      "Charging zones allt_st_week:   3%|█▌                                             | 3231/96100 [00:15<08:39, 178.85it/s]\u001b[A\n",
      "Charging zones allt_st_week:   3%|█▌                                             | 3264/96100 [00:15<07:21, 210.12it/s]\u001b[A\n",
      "Charging zones allt_st_week:   3%|█▌                                             | 3287/96100 [00:16<10:05, 153.29it/s]\u001b[A\n",
      "Charging zones allt_st_week:   3%|█▌                                             | 3306/96100 [00:16<09:43, 158.91it/s]\u001b[A\n",
      "Charging zones allt_st_week:   3%|█▋                                             | 3334/96100 [00:16<08:22, 184.74it/s]\u001b[A\n",
      "Charging zones allt_st_week:   3%|█▋                                             | 3357/96100 [00:16<07:53, 195.70it/s]\u001b[A\n",
      "Charging zones allt_st_week:   4%|█▋                                             | 3379/96100 [00:16<09:29, 162.67it/s]\u001b[A\n",
      "Charging zones allt_st_week:   4%|█▋                                             | 3398/96100 [00:16<11:54, 129.81it/s]\u001b[A\n",
      "Charging zones allt_st_week:   4%|█▋                                             | 3415/96100 [00:17<11:15, 137.30it/s]\u001b[A\n",
      "Charging zones allt_st_week:   4%|█▋                                             | 3431/96100 [00:17<12:41, 121.64it/s]\u001b[A\n",
      "Charging zones allt_st_week:   4%|█▋                                             | 3445/96100 [00:17<13:14, 116.69it/s]\u001b[A\n",
      "Charging zones allt_st_week:   4%|█▋                                             | 3458/96100 [00:17<13:18, 116.09it/s]\u001b[A\n",
      "Charging zones allt_st_week:   4%|█▋                                             | 3471/96100 [00:17<13:15, 116.47it/s]\u001b[A\n",
      "Charging zones allt_st_week:   4%|█▋                                             | 3484/96100 [00:17<12:56, 119.21it/s]\u001b[A\n",
      "Charging zones allt_st_week:   4%|█▋                                             | 3511/96100 [00:17<10:05, 152.99it/s]\u001b[A\n",
      "Charging zones allt_st_week:   4%|█▋                                             | 3539/96100 [00:17<08:34, 180.06it/s]\u001b[A\n",
      "Charging zones allt_st_week:   4%|█▋                                             | 3562/96100 [00:17<07:59, 193.08it/s]\u001b[A\n",
      "Charging zones allt_st_week:   4%|█▊                                             | 3587/96100 [00:18<07:27, 206.88it/s]\u001b[A\n",
      "Charging zones allt_st_week:   4%|█▊                                             | 3609/96100 [00:18<07:32, 204.22it/s]\u001b[A\n",
      "Charging zones allt_st_week:   4%|█▊                                             | 3630/96100 [00:18<07:54, 194.90it/s]\u001b[A\n"
     ]
    },
    {
     "name": "stderr",
     "output_type": "stream",
     "text": [
      "Charging zones allt_st_week:   4%|█▊                                             | 3650/96100 [00:18<07:53, 195.22it/s]\u001b[A\n",
      "Charging zones allt_st_week:   4%|█▊                                             | 3670/96100 [00:18<07:56, 193.82it/s]\u001b[A\n",
      "Charging zones allt_st_week:   4%|█▊                                             | 3697/96100 [00:18<07:15, 212.10it/s]\u001b[A\n",
      "Charging zones allt_st_week:   4%|█▊                                             | 3725/96100 [00:18<06:39, 231.10it/s]\u001b[A\n",
      "Charging zones allt_st_week:   4%|█▊                                             | 3749/96100 [00:18<06:45, 227.48it/s]\u001b[A\n",
      "Charging zones allt_st_week:   4%|█▊                                             | 3772/96100 [00:19<07:46, 197.74it/s]\u001b[A\n",
      "Charging zones allt_st_week:   4%|█▊                                             | 3793/96100 [00:19<08:21, 184.08it/s]\u001b[A\n",
      "Charging zones allt_st_week:   4%|█▊                                             | 3823/96100 [00:19<07:27, 206.29it/s]\u001b[A\n",
      "Charging zones allt_st_week:   4%|█▉                                             | 3850/96100 [00:19<06:54, 222.76it/s]\u001b[A\n",
      "Charging zones allt_st_week:   4%|█▉                                             | 3886/96100 [00:19<06:09, 249.78it/s]\u001b[A\n",
      "Charging zones allt_st_week:   4%|█▉                                             | 3912/96100 [00:19<06:05, 252.23it/s]\u001b[A\n",
      "Charging zones allt_st_week:   4%|█▉                                             | 3957/96100 [00:19<07:40, 200.16it/s]\u001b[A\n",
      "Charging zones:   0%|                                                                            | 0/8 [00:19<?, ?it/s]\n"
     ]
    },
    {
     "ename": "KeyboardInterrupt",
     "evalue": "",
     "output_type": "error",
     "traceback": [
      "\u001b[1;31m---------------------------------------------------------------------------\u001b[0m",
      "\u001b[1;31mKeyboardInterrupt\u001b[0m                         Traceback (most recent call last)",
      "\u001b[1;32m~\\AppData\\Local\\Temp\\ipykernel_7404\\451043146.py\u001b[0m in \u001b[0;36m<module>\u001b[1;34m\u001b[0m\n\u001b[1;32m----> 1\u001b[1;33m \u001b[0mmain\u001b[0m\u001b[1;33m(\u001b[0m\u001b[1;33m)\u001b[0m\u001b[1;33m\u001b[0m\u001b[1;33m\u001b[0m\u001b[0m\n\u001b[0m",
      "\u001b[1;32m~\\AppData\\Local\\Temp\\ipykernel_7404\\1037375732.py\u001b[0m in \u001b[0;36mmain\u001b[1;34m()\u001b[0m\n\u001b[0;32m      2\u001b[0m     \u001b[1;32mwith\u001b[0m \u001b[0mtqdm\u001b[0m\u001b[1;33m(\u001b[0m\u001b[0mdesc\u001b[0m\u001b[1;33m=\u001b[0m\u001b[1;34m\"Charging zones\"\u001b[0m\u001b[1;33m,\u001b[0m\u001b[0mtotal\u001b[0m\u001b[1;33m=\u001b[0m\u001b[0mlen\u001b[0m\u001b[1;33m(\u001b[0m\u001b[0mallc\u001b[0m\u001b[1;33m)\u001b[0m\u001b[1;33m)\u001b[0m \u001b[1;32mas\u001b[0m \u001b[0mpbar\u001b[0m\u001b[1;33m:\u001b[0m\u001b[1;33m\u001b[0m\u001b[1;33m\u001b[0m\u001b[0m\n\u001b[0;32m      3\u001b[0m         \u001b[1;32mfor\u001b[0m \u001b[0mc\u001b[0m \u001b[1;32min\u001b[0m \u001b[0mallc\u001b[0m\u001b[1;33m:\u001b[0m\u001b[1;33m\u001b[0m\u001b[1;33m\u001b[0m\u001b[0m\n\u001b[1;32m----> 4\u001b[1;33m             \u001b[0mmatrix_z\u001b[0m\u001b[1;33m(\u001b[0m\u001b[1;33m*\u001b[0m\u001b[0mc\u001b[0m\u001b[1;33m)\u001b[0m\u001b[1;33m\u001b[0m\u001b[1;33m\u001b[0m\u001b[0m\n\u001b[0m\u001b[0;32m      5\u001b[0m             \u001b[0mpbar\u001b[0m\u001b[1;33m.\u001b[0m\u001b[0mupdate\u001b[0m\u001b[1;33m(\u001b[0m\u001b[1;33m)\u001b[0m\u001b[1;33m\u001b[0m\u001b[1;33m\u001b[0m\u001b[0m\n\u001b[0;32m      6\u001b[0m     \u001b[0mprint\u001b[0m\u001b[1;33m(\u001b[0m\u001b[1;34m'All matrixes done'\u001b[0m\u001b[1;33m)\u001b[0m\u001b[1;33m\u001b[0m\u001b[1;33m\u001b[0m\u001b[0m\n",
      "\u001b[1;32m~\\AppData\\Local\\Temp\\ipykernel_7404\\3207392163.py\u001b[0m in \u001b[0;36mmatrix_z\u001b[1;34m(case, st, days)\u001b[0m\n\u001b[0;32m      6\u001b[0m             \u001b[1;32mfor\u001b[0m \u001b[0mj\u001b[0m \u001b[1;32min\u001b[0m \u001b[0mrange\u001b[0m\u001b[1;33m(\u001b[0m\u001b[0mlen\u001b[0m\u001b[1;33m(\u001b[0m\u001b[0mtowers\u001b[0m\u001b[1;33m)\u001b[0m\u001b[1;33m)\u001b[0m\u001b[1;33m:\u001b[0m\u001b[1;33m\u001b[0m\u001b[1;33m\u001b[0m\u001b[0m\n\u001b[0;32m      7\u001b[0m                 \u001b[0merow\u001b[0m\u001b[1;33m=\u001b[0m\u001b[0mtowers_prop\u001b[0m\u001b[1;33m[\u001b[0m\u001b[0mtowers_prop\u001b[0m\u001b[1;33m[\u001b[0m\u001b[1;34m'id'\u001b[0m\u001b[1;33m]\u001b[0m\u001b[1;33m==\u001b[0m\u001b[0mtowers\u001b[0m\u001b[1;33m[\u001b[0m\u001b[0mi\u001b[0m\u001b[1;33m]\u001b[0m\u001b[1;33m]\u001b[0m\u001b[1;33m\u001b[0m\u001b[1;33m\u001b[0m\u001b[0m\n\u001b[1;32m----> 8\u001b[1;33m                 \u001b[0mecol\u001b[0m\u001b[1;33m=\u001b[0m\u001b[0mtowers_prop\u001b[0m\u001b[1;33m[\u001b[0m\u001b[0mtowers_prop\u001b[0m\u001b[1;33m[\u001b[0m\u001b[1;34m'id'\u001b[0m\u001b[1;33m]\u001b[0m\u001b[1;33m==\u001b[0m\u001b[0mtowers\u001b[0m\u001b[1;33m[\u001b[0m\u001b[0mj\u001b[0m\u001b[1;33m]\u001b[0m\u001b[1;33m]\u001b[0m\u001b[1;33m\u001b[0m\u001b[1;33m\u001b[0m\u001b[0m\n\u001b[0m\u001b[0;32m      9\u001b[0m                 \u001b[1;32mfor\u001b[0m \u001b[0mr\u001b[0m \u001b[1;32min\u001b[0m \u001b[0mrange\u001b[0m\u001b[1;33m(\u001b[0m\u001b[0mlen\u001b[0m\u001b[1;33m(\u001b[0m\u001b[0merow\u001b[0m\u001b[1;33m[\u001b[0m\u001b[1;34m'category'\u001b[0m\u001b[1;33m]\u001b[0m\u001b[1;33m)\u001b[0m\u001b[1;33m)\u001b[0m\u001b[1;33m:\u001b[0m\u001b[1;33m\u001b[0m\u001b[1;33m\u001b[0m\u001b[0m\n\u001b[0;32m     10\u001b[0m                     \u001b[1;32mfor\u001b[0m \u001b[0mc\u001b[0m \u001b[1;32min\u001b[0m \u001b[0mrange\u001b[0m\u001b[1;33m(\u001b[0m\u001b[0mlen\u001b[0m\u001b[1;33m(\u001b[0m\u001b[0mecol\u001b[0m\u001b[1;33m[\u001b[0m\u001b[1;34m'category'\u001b[0m\u001b[1;33m]\u001b[0m\u001b[1;33m)\u001b[0m\u001b[1;33m)\u001b[0m\u001b[1;33m:\u001b[0m\u001b[1;33m\u001b[0m\u001b[1;33m\u001b[0m\u001b[0m\n",
      "\u001b[1;32mC:\\anaconda\\lib\\site-packages\\pandas\\core\\frame.py\u001b[0m in \u001b[0;36m__getitem__\u001b[1;34m(self, key)\u001b[0m\n\u001b[0;32m   3494\u001b[0m         \u001b[1;31m# Do we have a (boolean) 1d indexer?\u001b[0m\u001b[1;33m\u001b[0m\u001b[1;33m\u001b[0m\u001b[0m\n\u001b[0;32m   3495\u001b[0m         \u001b[1;32mif\u001b[0m \u001b[0mcom\u001b[0m\u001b[1;33m.\u001b[0m\u001b[0mis_bool_indexer\u001b[0m\u001b[1;33m(\u001b[0m\u001b[0mkey\u001b[0m\u001b[1;33m)\u001b[0m\u001b[1;33m:\u001b[0m\u001b[1;33m\u001b[0m\u001b[1;33m\u001b[0m\u001b[0m\n\u001b[1;32m-> 3496\u001b[1;33m             \u001b[1;32mreturn\u001b[0m \u001b[0mself\u001b[0m\u001b[1;33m.\u001b[0m\u001b[0m_getitem_bool_array\u001b[0m\u001b[1;33m(\u001b[0m\u001b[0mkey\u001b[0m\u001b[1;33m)\u001b[0m\u001b[1;33m\u001b[0m\u001b[1;33m\u001b[0m\u001b[0m\n\u001b[0m\u001b[0;32m   3497\u001b[0m \u001b[1;33m\u001b[0m\u001b[0m\n\u001b[0;32m   3498\u001b[0m         \u001b[1;31m# We are left with two options: a single key, and a collection of keys,\u001b[0m\u001b[1;33m\u001b[0m\u001b[1;33m\u001b[0m\u001b[0m\n",
      "\u001b[1;32mC:\\anaconda\\lib\\site-packages\\pandas\\core\\frame.py\u001b[0m in \u001b[0;36m_getitem_bool_array\u001b[1;34m(self, key)\u001b[0m\n\u001b[0;32m   3548\u001b[0m         \u001b[1;31m# be reindexed to match DataFrame rows\u001b[0m\u001b[1;33m\u001b[0m\u001b[1;33m\u001b[0m\u001b[0m\n\u001b[0;32m   3549\u001b[0m         \u001b[0mkey\u001b[0m \u001b[1;33m=\u001b[0m \u001b[0mcheck_bool_indexer\u001b[0m\u001b[1;33m(\u001b[0m\u001b[0mself\u001b[0m\u001b[1;33m.\u001b[0m\u001b[0mindex\u001b[0m\u001b[1;33m,\u001b[0m \u001b[0mkey\u001b[0m\u001b[1;33m)\u001b[0m\u001b[1;33m\u001b[0m\u001b[1;33m\u001b[0m\u001b[0m\n\u001b[1;32m-> 3550\u001b[1;33m         \u001b[0mindexer\u001b[0m \u001b[1;33m=\u001b[0m \u001b[0mkey\u001b[0m\u001b[1;33m.\u001b[0m\u001b[0mnonzero\u001b[0m\u001b[1;33m(\u001b[0m\u001b[1;33m)\u001b[0m\u001b[1;33m[\u001b[0m\u001b[1;36m0\u001b[0m\u001b[1;33m]\u001b[0m\u001b[1;33m\u001b[0m\u001b[1;33m\u001b[0m\u001b[0m\n\u001b[0m\u001b[0;32m   3551\u001b[0m         \u001b[1;32mreturn\u001b[0m \u001b[0mself\u001b[0m\u001b[1;33m.\u001b[0m\u001b[0m_take_with_is_copy\u001b[0m\u001b[1;33m(\u001b[0m\u001b[0mindexer\u001b[0m\u001b[1;33m,\u001b[0m \u001b[0maxis\u001b[0m\u001b[1;33m=\u001b[0m\u001b[1;36m0\u001b[0m\u001b[1;33m)\u001b[0m\u001b[1;33m\u001b[0m\u001b[1;33m\u001b[0m\u001b[0m\n\u001b[0;32m   3552\u001b[0m \u001b[1;33m\u001b[0m\u001b[0m\n",
      "\u001b[1;31mKeyboardInterrupt\u001b[0m: "
     ]
    }
   ],
   "source": [
    "main()"
   ]
  }
 ],
 "metadata": {
  "kernelspec": {
   "display_name": "Python 3 (ipykernel)",
   "language": "python",
   "name": "python3"
  },
  "language_info": {
   "codemirror_mode": {
    "name": "ipython",
    "version": 3
   },
   "file_extension": ".py",
   "mimetype": "text/x-python",
   "name": "python",
   "nbconvert_exporter": "python",
   "pygments_lexer": "ipython3",
   "version": "3.9.13"
  }
 },
 "nbformat": 4,
 "nbformat_minor": 5
}
