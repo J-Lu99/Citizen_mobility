{
 "cells": [
  {
   "cell_type": "markdown",
   "metadata": {},
   "source": [
    "# Contents on this file\n",
    "----\n",
    "- #### [Hacer censo y extraer estables.](Extract_stable.ipynb)\n",
    "    - ##### [Script version.](Extract_stable.py)\n",
    "\n",
    "- #### [Hacer matrices e histogramas.](Matrix&Hist.ipynb)\n",
    "    - ##### [Script version.](Extract_stable.py)\n",
    "\n",
    "- #### [Encontrar los valores medios de las matrices e histogramas.](Means.ipynb)\n",
    "    - ##### [Script version.](Extract_stable.py)\n",
    "\n",
    "- #### [Ejecutar los dos procesos anteriores en bash.](allprocess.sh)\n",
    "\n",
    "- #### [LLevar matrices de torres a zonas.](Zone_Matrix.ipynb)\n",
    "    - ##### [Script version.](Extract_stable.py)\n",
    "\n",
    "- #### [_Clusters_: búsqueda, _plot_ y PCA.](Clusters.ipynb)\n",
    "\n",
    "- #### [Bash para modificar datos](transform_txt_to_dat.sh)\n",
    "----\n",
    "\n"
   ]
  },
  {
   "cell_type": "markdown",
   "metadata": {},
   "source": [
    "#### *Los scripts no están inicializados aún."
   ]
  },
  {
   "cell_type": "markdown",
   "metadata": {},
   "source": [
    "                                                                            "
   ]
  }
 ],
 "metadata": {
  "language_info": {
   "name": "python"
  },
  "orig_nbformat": 4
 },
 "nbformat": 4,
 "nbformat_minor": 2
}
