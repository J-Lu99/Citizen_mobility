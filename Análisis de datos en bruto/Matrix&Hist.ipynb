{
 "cells": [
  {
   "cell_type": "markdown",
   "id": "3065619d",
   "metadata": {},
   "source": [
    "# Hacer matrices e histogramas"
   ]
  },
  {
   "cell_type": "markdown",
   "id": "ad9d55e7",
   "metadata": {},
   "source": [
    "**Table of contents**<a id='toc0_'></a>    \n",
    "- [General](#toc1_1_)    \n",
    "- [Funciones](#toc1_2_)    \n",
    "- [_Main_](#toc1_3_)    \n",
    "\n",
    "<!-- vscode-jupyter-toc-config\n",
    "\tnumbering=false\n",
    "\tanchor=true\n",
    "\tflat=false\n",
    "\tminLevel=1\n",
    "\tmaxLevel=6\n",
    "\t/vscode-jupyter-toc-config -->\n",
    "<!-- THIS CELL WILL BE REPLACED ON TOC UPDATE. DO NOT WRITE YOUR TEXT IN THIS CELL -->"
   ]
  },
  {
   "cell_type": "markdown",
   "metadata": {},
   "source": [
    "----\n",
    "## <a id='toc1_1_'></a>[General](#toc0_)\n",
    "    "
   ]
  },
  {
   "cell_type": "code",
   "execution_count": 1,
   "id": "7925e050",
   "metadata": {},
   "outputs": [],
   "source": [
    "import pickle\n",
    "import os\n",
    "import sys\n",
    "import numpy as np\n",
    "import pandas as pd\n",
    "import itertools as it\n",
    "import multiprocessing\n",
    "from concurrent.futures import ProcessPoolExecutor\n",
    "from tqdm import tqdm as tqdm\n",
    "\n",
    "general_directory=os.getcwd()+'\\\\Data\\\\'\n",
    "cases=['allt','hw','no','mo']"
   ]
  },
  {
   "cell_type": "markdown",
   "metadata": {},
   "source": [
    "----\n",
    "## <a id='toc1_2_'></a>[Funciones](#toc0_)"
   ]
  },
  {
   "cell_type": "code",
   "execution_count": 6,
   "id": "breeding-stack",
   "metadata": {},
   "outputs": [],
   "source": [
    "def get_days():\n",
    "    if not os.path.isdir(general_directory): os.mkdir('Data')\n",
    "    if not os.path.isdir(general_directory+'Days'): os.mkdir(general_directory+'Days')\n",
    "    days=[i for i in os.listdir(general_directory+'Days') if i[-3:]=='dat' ]\n",
    "    days.sort()\n",
    "    return days"
   ]
  },
  {
   "cell_type": "code",
   "execution_count": 3,
   "id": "removed-vehicle",
   "metadata": {},
   "outputs": [],
   "source": [
    "def save_dataP(name,dictionary,location=general_directory):\n",
    "\n",
    "    with open(location+'Saves/'+ name+'.pkl', 'wb') as tf:\n",
    "        pickle.dump(dictionary,tf)\n",
    "    "
   ]
  },
  {
   "cell_type": "code",
   "execution_count": 4,
   "id": "conventional-haven",
   "metadata": {},
   "outputs": [],
   "source": [
    "times=[i*3600 for i in range(0,25)]\n",
    "\n",
    "times_r=[str(int(times[i]/3600))+'-'+str(int(times[i+1]/3600)) for i in range(len(times)-1)]\n",
    "\n",
    "def new_times(t):\n",
    "    for i in range(len(times)):\n",
    "        if int(t) <= times[i]:\n",
    "            return times_r[i-1]\n",
    "        \n",
    "def new_times_df(data_f):\n",
    "    for column in ['end_time','start_time']: data_f[column]=data_f[column].apply(new_times)\n",
    "    return data_f"
   ]
  },
  {
   "cell_type": "code",
   "execution_count": 5,
   "id": "treated-perspective",
   "metadata": {},
   "outputs": [],
   "source": [
    "def load_day(day):\n",
    "    nday=pd.read_csv(general_directory+'Days\\\\'+day,sep='\\s+'\n",
    "                     ,skiprows=1,names=['ID','start_time','end_time','exit','goal'],engine='python')\n",
    "    nday['exit']=nday['exit'].apply(lambda x : x.replace(\"'\",''))\n",
    "    nday['goal']=nday['goal'].apply(lambda x : x.replace(\"'\",''))\n",
    "    nday=new_times_df(nday)\n",
    "    return nday.set_index(nday['ID'])"
   ]
  },
  {
   "cell_type": "code",
   "execution_count": 6,
   "id": "innovative-environment",
   "metadata": {},
   "outputs": [],
   "source": [
    "def stable_day(t_f):\n",
    "    data_f = t_f\n",
    "    #for index in t_f.index:\n",
    "        #if list(estables.keys()).count(t_f['ID'][index])==0: t_f.drop(index,inplace=True)\n",
    "  \n",
    "    return data_f.drop( list( set(data_f.index)-set(estables.keys())) )"
   ]
  },
  {
   "cell_type": "code",
   "execution_count": 7,
   "id": "least-librarian",
   "metadata": {},
   "outputs": [],
   "source": [
    "def ch_travels(t_f,case='allt'):\n",
    "    if case=='hw': return t_f.drop_duplicates(subset='ID')\n",
    "        \n",
    "    elif case=='mo':\n",
    "        for tr in times_r[12:24]+times_r[:4]:\n",
    "            t_f=t_f.drop(t_f[t_f['start_time']== tr].index)\n",
    "            t_f=t_f.drop(t_f[t_f['end_time']== tr].index)\n",
    "        return t_f\n",
    "            \n",
    "    elif case=='no':\n",
    "        for tr in times_r [:12]+times_r [21:24]:\n",
    "            t_f=t_f.drop(t_f[t_f['start_time']== tr].index)\n",
    "            t_f=t_f.drop(t_f[t_f['end_time']== tr].index)\n",
    "        return t_f\n",
    "    \n",
    "    else: return t_f   "
   ]
  },
  {
   "cell_type": "code",
   "execution_count": 8,
   "id": "quarterly-malaysia",
   "metadata": {},
   "outputs": [],
   "source": [
    "def matrix(travels_f,case,day):\n",
    "    TM={i:0 for i in list(it.product(towers,repeat=2))}\n",
    "    travels_f=travels_f.drop(['ID','start_time','end_time'],axis=1)\n",
    "    GT=travels_f.groupby(['exit','goal']).groups\n",
    "    for key in GT.keys() : \n",
    "        TM[key]=TM.get(key, 0)+len(GT[key])\n",
    "    L=list(TM.values())\n",
    "    lenT=len(towers)\n",
    "    matrixT=np.array([L[i*lenT:(i+1)*lenT] for i in range(lenT)])\n",
    "    np.savetxt(general_directory+'/Saves/'+day[6:10]+'_'+case+'_'+sys.argv[1]+'_mat.csv',matrixT,delimiter=',')"
   ]
  },
  {
   "cell_type": "code",
   "execution_count": 9,
   "id": "comparative-queensland",
   "metadata": {},
   "outputs": [],
   "source": [
    "def hist(travels_f,case,day):\n",
    "    GOUTC=travels_f.groupby(['start_time','exit']).count()['ID']\n",
    "    GINC=travels_f.groupby(['end_time','goal']).count()['ID']\n",
    "    In={}\n",
    "    Out={}\n",
    "    for i in times_r:\n",
    "        if i in GINC : In[i+' In']=In.get(i+' In',[GINC[i][t] if t in GINC[i] else 0 for t in towers])\n",
    "        else : In[i+' In']=In.get(i+' In',[0 for t in towers])\n",
    "            \n",
    "        if i in GOUTC : Out[i+' Out']=Out.get(i+' Out',[GOUTC[i][t] if t in GOUTC[i] else 0 for t in towers])\n",
    "        else : Out[i+' Out']=Out.get(i+' Out',[0 for t in towers])\n",
    "    save_dataP(day[6:10]+'_'+case+'_'+sys.argv[1]+'_hist',pd.DataFrame(In|Out, index=towers)) \n",
    "    return pd.DataFrame(In|Out, index=towers)"
   ]
  },
  {
   "cell_type": "code",
   "execution_count": 10,
   "id": "sexual-yacht",
   "metadata": {},
   "outputs": [],
   "source": [
    "def chargin_data(t_f,case,day):\n",
    "    with tqdm(desc=\"Analizing \"+day,total=len(cases)) as pbar:\n",
    "        for i in cases:     \n",
    "            cht_f=ch_travels(t_f,case)\n",
    "            matrix(cht_f,case,day)\n",
    "            if case=='allt':hist(cht_f,day)\n",
    "            pbar.update()"
   ]
  },
  {
   "cell_type": "code",
   "execution_count": 11,
   "id": "searching-story",
   "metadata": {},
   "outputs": [],
   "source": [
    "def chargin_data_allv(t_f,day):\n",
    "    with tqdm(desc=\"Analizing \"+day,total=2*len(cases)) as pbar:\n",
    "        for i in cases:     \n",
    "            cht_f=ch_travels(t_f,i)\n",
    "            matrix(cht_f,i,day)\n",
    "            pbar.update()\n",
    "            hist(cht_f,i,day)\n",
    "            pbar.update()"
   ]
  },
  {
   "cell_type": "code",
   "execution_count": 12,
   "id": "e3780089",
   "metadata": {},
   "outputs": [],
   "source": [
    "def analize(day):\n",
    "    print(\"Loading \",day)\n",
    "    t_f=load_day(day)\n",
    "    if sys.argv[1]=='st': \n",
    "        print('Stabilizing', day)\n",
    "        t_f=stable_day(t_f)\n",
    "    chargin_data_allv(t_f,day)\n",
    "        \n",
    "   \n",
    "    \n",
    "    "
   ]
  },
  {
   "cell_type": "markdown",
   "metadata": {},
   "source": [
    "----\n",
    "## <a id='toc1_3_'></a>[_Main_](#toc0_)"
   ]
  },
  {
   "cell_type": "code",
   "execution_count": 7,
   "id": "involved-recipe",
   "metadata": {},
   "outputs": [],
   "source": [
    "def main():\n",
    "    days=get_days()\n",
    "    N=len(days)\n",
    "\n",
    "    if N==0: print('No data yet')\n",
    "    else:\n",
    "        try:\n",
    "            with open(general_directory+'Saves/Towers.pkl','r+b') as pk:\n",
    "                towers=pickle.load(pk)\n",
    "        except FileNotFoundError:\n",
    "            print('You need the file Towers.pkl')\n",
    "    \n",
    "        try:\n",
    "            with open(general_directory+'Saves/Estables.pkl','r+b') as pk:\n",
    "                estables=pickle.load(pk)\n",
    "        except FileNotFoundError:\n",
    "            print('You need the file Estables.pkl')\n",
    "\n",
    "        with ProcessPoolExecutor(max_workers=int(multiprocessing.cpu_count()/2)) as ex:\n",
    "            list(ex.map(analize,days))\n",
    "        "
   ]
  },
  {
   "cell_type": "code",
   "execution_count": 8,
   "id": "passing-virgin",
   "metadata": {},
   "outputs": [
    {
     "name": "stdout",
     "output_type": "stream",
     "text": [
      "No data yet\n"
     ]
    }
   ],
   "source": [
    "if __name__==\"__main__\":\n",
    "    \n",
    "    main()"
   ]
  }
 ],
 "metadata": {
  "kernelspec": {
   "display_name": "Python 3 (ipykernel)",
   "language": "python",
   "name": "python3"
  }
 },
 "nbformat": 4,
 "nbformat_minor": 5
}
