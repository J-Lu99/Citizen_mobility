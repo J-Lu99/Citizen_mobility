{
 "cells": [
  {
   "cell_type": "markdown",
   "id": "3065619d",
   "metadata": {},
   "source": [
    "# Hacer matrices e histogramas"
   ]
  },
  {
   "cell_type": "markdown",
   "id": "ad9d55e7",
   "metadata": {},
   "source": [
    "**Table of contents**<a id='toc0_'></a>    \n",
    "- [General](#toc1_1_)    \n",
    "- [Funciones](#toc1_2_)    \n",
    "- [_Main_](#toc1_3_)    \n",
    "\n",
    "<!-- vscode-jupyter-toc-config\n",
    "\tnumbering=false\n",
    "\tanchor=true\n",
    "\tflat=false\n",
    "\tminLevel=1\n",
    "\tmaxLevel=6\n",
    "\t/vscode-jupyter-toc-config -->\n",
    "<!-- THIS CELL WILL BE REPLACED ON TOC UPDATE. DO NOT WRITE YOUR TEXT IN THIS CELL -->"
   ]
  },
  {
   "cell_type": "markdown",
   "metadata": {},
   "source": [
    "----\n",
    "## <a id='toc1_1_'></a>[General](#toc0_)\n",
    "    "
   ]
  },
  {
   "cell_type": "code",
   "execution_count": 1,
   "id": "7925e050",
   "metadata": {},
   "outputs": [],
   "source": [
    "import pickle\n",
    "import os\n",
    "import sys\n",
    "import numpy as np\n",
    "import pandas as pd\n",
    "import itertools as it\n",
    "import multiprocessing\n",
    "from concurrent.futures import ProcessPoolExecutor\n",
    "from tqdm import tqdm as tqdm\n",
    "\n",
    "general_directory=os.getcwd()+'\\\\Data\\\\'\n",
    "cases=['allt','hw','no','mo']"
   ]
  },
  {
   "cell_type": "markdown",
   "metadata": {},
   "source": [
    "----\n",
    "## <a id='toc1_2_'></a>[Funciones](#toc0_)"
   ]
  },
  {
   "cell_type": "code",
   "execution_count": 2,
   "id": "breeding-stack",
   "metadata": {},
   "outputs": [],
   "source": [
    "def get_days():\n",
    "    if not os.path.isdir(general_directory): os.mkdir('Data')\n",
    "    if not os.path.isdir(general_directory+'Days'): os.mkdir(general_directory+'Days')\n",
    "    days=[i for i in os.listdir(general_directory+'Days') if i[-3:]=='dat' ]\n",
    "    days.sort()\n",
    "    return days"
   ]
  },
  {
   "cell_type": "code",
   "execution_count": 3,
   "id": "removed-vehicle",
   "metadata": {},
   "outputs": [],
   "source": [
    "def save_dataP(name,dictionary,location=general_directory):\n",
    "\n",
    "    with open(location+'Saves/'+ name+'.pkl', 'wb') as tf:\n",
    "        pickle.dump(dictionary,tf)\n",
    "    "
   ]
  },
  {
   "cell_type": "code",
   "execution_count": 4,
   "id": "conventional-haven",
   "metadata": {},
   "outputs": [],
   "source": [
    "times=[i*3600 for i in range(0,25)]\n",
    "\n",
    "times_r=[str(int(times[i]/3600))+'-'+str(int(times[i+1]/3600)) for i in range(len(times)-1)]\n",
    "\n",
    "def new_times(t):\n",
    "    for i in range(len(times)):\n",
    "        if int(t) <= times[i]:\n",
    "            return times_r[i-1]\n",
    "        \n",
    "def new_times_df(data_f):\n",
    "    for column in ['end_time','start_time']: data_f[column]=data_f[column].apply(new_times)\n",
    "    return data_f"
   ]
  },
  {
   "cell_type": "code",
   "execution_count": 5,
   "id": "treated-perspective",
   "metadata": {},
   "outputs": [],
   "source": [
    "def load_day(day):\n",
    "    nday=pd.read_csv(general_directory+'Days\\\\'+day,sep='\\s+'\n",
    "                     ,skiprows=1,names=['ID','start_time','end_time','exit','goal'],engine='python')\n",
    "    nday['exit']=nday['exit'].apply(lambda x : x.replace(\"'\",''))\n",
    "    nday['goal']=nday['goal'].apply(lambda x : x.replace(\"'\",''))\n",
    "    nday=new_times_df(nday)\n",
    "    return nday.set_index(nday['ID'])"
   ]
  },
  {
   "cell_type": "code",
   "execution_count": null,
   "id": "innovative-environment",
   "metadata": {},
   "outputs": [],
   "source": [
    "def stable_day(t_f):\n",
    "    data_f = t_f\n",
    "    #for index in t_f.index:\n",
    "        #if list(estables.keys()).count(t_f['ID'][index])==0: t_f.drop(index,inplace=True)\n",
    "  \n",
    "    return data_f.drop( list( set(data_f.index)-set(estables.keys())) )"
   ]
  },
  {
   "cell_type": "code",
   "execution_count": null,
   "id": "least-librarian",
   "metadata": {},
   "outputs": [],
   "source": [
    "def ch_travels(t_f,case='allt'):\n",
    "    if case=='hw': return t_f.drop_duplicates(subset='ID')\n",
    "        \n",
    "    elif case=='mo':\n",
    "        for tr in times_r[12:24]+times_r[:4]:\n",
    "            t_f=t_f.drop(t_f[t_f['start_time']== tr].index)\n",
    "            t_f=t_f.drop(t_f[t_f['end_time']== tr].index)\n",
    "        return t_f\n",
    "            \n",
    "    elif case=='no':\n",
    "        for tr in times_r [:12]+times_r [21:24]:\n",
    "            t_f=t_f.drop(t_f[t_f['start_time']== tr].index)\n",
    "            t_f=t_f.drop(t_f[t_f['end_time']== tr].index)\n",
    "        return t_f\n",
    "    \n",
    "    else: return t_f   "
   ]
  },
  {
   "cell_type": "code",
   "execution_count": null,
   "id": "quarterly-malaysia",
   "metadata": {},
   "outputs": [],
   "source": [
    "def matrix(travels_f,case,day):\n",
    "    TM={i:0 for i in list(it.product(towers,repeat=2))}\n",
    "    travels_f=travels_f.drop(['ID','start_time','end_time'],axis=1)\n",
    "    GT=travels_f.groupby(['exit','goal']).groups\n",
    "    for key in GT.keys() : \n",
    "        TM[key]=TM.get(key, 0)+len(GT[key])\n",
    "    L=list(TM.values())\n",
    "    lenT=len(towers)\n",
    "    matrixT=np.array([L[i*lenT:(i+1)*lenT] for i in range(lenT)])\n",
    "    np.savetxt(general_directory+'/Saves/'+day[6:10]+'_'+case+'_'+sys.argv[1]+'_mat.csv',matrixT,delimiter=',')"
   ]
  },
  {
   "cell_type": "code",
   "execution_count": null,
   "id": "comparative-queensland",
   "metadata": {},
   "outputs": [],
   "source": [
    "def hist(travels_f,case,day):\n",
    "    GOUTC=travels_f.groupby(['start_time','exit']).count()['ID']\n",
    "    GINC=travels_f.groupby(['end_time','goal']).count()['ID']\n",
    "    In={}\n",
    "    Out={}\n",
    "    for i in times_r:\n",
    "        if i in GINC : In[i+' In']=In.get(i+' In',[GINC[i][t] if t in GINC[i] else 0 for t in towers])\n",
    "        else : In[i+' In']=In.get(i+' In',[0 for t in towers])\n",
    "            \n",
    "        if i in GOUTC : Out[i+' Out']=Out.get(i+' Out',[GOUTC[i][t] if t in GOUTC[i] else 0 for t in towers])\n",
    "        else : Out[i+' Out']=Out.get(i+' Out',[0 for t in towers])\n",
    "    save_dataP(day[6:10]+'_'+case+'_'+sys.argv[1]+'_hist',pd.DataFrame(In|Out, index=towers)) \n",
    "    return pd.DataFrame(In|Out, index=towers)"
   ]
  },
  {
   "cell_type": "code",
   "execution_count": null,
   "id": "sexual-yacht",
   "metadata": {},
   "outputs": [],
   "source": [
    "def chargin_data(t_f,case,day):\n",
    "    with tqdm(desc=\"Analizing \"+day,total=len(cases)) as pbar:\n",
    "        for i in cases:     \n",
    "            cht_f=ch_travels(t_f,case)\n",
    "            matrix(cht_f,case,day)\n",
    "            if case=='allt':hist(cht_f,day)\n",
    "            pbar.update()"
   ]
  },
  {
   "cell_type": "code",
   "execution_count": null,
   "id": "searching-story",
   "metadata": {},
   "outputs": [],
   "source": [
    "def chargin_data_allv(t_f,day):\n",
    "    with tqdm(desc=\"Analizing \"+day,total=2*len(cases)) as pbar:\n",
    "        for i in cases:     \n",
    "            cht_f=ch_travels(t_f,i)\n",
    "            matrix(cht_f,i,day)\n",
    "            pbar.update()\n",
    "            hist(cht_f,i,day)\n",
    "            pbar.update()"
   ]
  },
  {
   "cell_type": "code",
   "execution_count": null,
   "id": "e3780089",
   "metadata": {},
   "outputs": [],
   "source": [
    "def analize(day):\n",
    "    print(\"Loading \",day)\n",
    "    t_f=load_day(day)\n",
    "    if sys.argv[1]=='st': \n",
    "        print('Stabilizing', day)\n",
    "        t_f=stable_day(t_f)\n",
    "    chargin_data_allv(t_f,day)\n",
    "        \n",
    "   \n",
    "    \n",
    "    "
   ]
  },
  {
   "cell_type": "markdown",
   "metadata": {},
   "source": [
    "----\n",
    "## <a id='toc1_3_'></a>[_Main_](#toc0_)"
   ]
  },
  {
   "cell_type": "code",
   "execution_count": null,
   "id": "involved-recipe",
   "metadata": {},
   "outputs": [],
   "source": [
    "def main():\n",
    "    days=get_days()\n",
    "    N=len(days)\n",
    "\n",
    "    if N==0: print('No data yet')\n",
    "    else:\n",
    "        try:\n",
    "            with open(general_directory+'Saves/Towers.pkl','r+b') as pk:\n",
    "                towers=pickle.load(pk)\n",
    "        except FileNotFoundError:\n",
    "            print('You need the file Towers.pkl')\n",
    "    \n",
    "        try:\n",
    "            with open(general_directory+'Saves/Estables.pkl','r+b') as pk:\n",
    "                estables=pickle.load(pk)\n",
    "        except FileNotFoundError:\n",
    "            print('You need the file Estables.pkl')\n",
    "\n",
    "        with ProcessPoolExecutor(max_workers=int(multiprocessing.cpu_count()/2)) as ex:\n",
    "            list(ex.map(analize,days))\n",
    "        "
   ]
  },
  {
   "cell_type": "code",
   "execution_count": 7,
   "id": "passing-virgin",
   "metadata": {},
   "outputs": [
    {
     "ename": "NameError",
     "evalue": "name 'main' is not defined",
     "output_type": "error",
     "traceback": [
      "\u001b[1;31m---------------------------------------------------------------------------\u001b[0m",
      "\u001b[1;31mNameError\u001b[0m                                 Traceback (most recent call last)",
      "\u001b[1;32m~\\AppData\\Local\\Temp\\ipykernel_1108\\2287437373.py\u001b[0m in \u001b[0;36m<module>\u001b[1;34m\u001b[0m\n\u001b[0;32m      1\u001b[0m \u001b[1;32mif\u001b[0m \u001b[0m__name__\u001b[0m\u001b[1;33m==\u001b[0m\u001b[1;34m\"__main__\"\u001b[0m\u001b[1;33m:\u001b[0m\u001b[1;33m\u001b[0m\u001b[1;33m\u001b[0m\u001b[0m\n\u001b[0;32m      2\u001b[0m \u001b[1;33m\u001b[0m\u001b[0m\n\u001b[1;32m----> 3\u001b[1;33m     \u001b[0mmain\u001b[0m\u001b[1;33m(\u001b[0m\u001b[1;33m)\u001b[0m\u001b[1;33m\u001b[0m\u001b[1;33m\u001b[0m\u001b[0m\n\u001b[0m",
      "\u001b[1;31mNameError\u001b[0m: name 'main' is not defined"
     ]
    }
   ],
   "source": [
    "if __name__==\"__main__\":\n",
    "    \n",
    "    main()"
   ]
  },
  {
   "cell_type": "code",
   "execution_count": 8,
   "id": "eaeb621f",
   "metadata": {},
   "outputs": [
    {
     "data": {
      "text/plain": [
       "['2022-05-18.dat']"
      ]
     },
     "execution_count": 8,
     "metadata": {},
     "output_type": "execute_result"
    }
   ],
   "source": [
    "get_days()"
   ]
  },
  {
   "cell_type": "code",
   "execution_count": 12,
   "id": "4bef4a27",
   "metadata": {},
   "outputs": [],
   "source": [
    "day=load_day('2022-05-18.dat')"
   ]
  },
  {
   "cell_type": "code",
   "execution_count": 14,
   "id": "f35c5d75",
   "metadata": {},
   "outputs": [
    {
     "data": {
      "text/html": [
       "<div>\n",
       "<style scoped>\n",
       "    .dataframe tbody tr th:only-of-type {\n",
       "        vertical-align: middle;\n",
       "    }\n",
       "\n",
       "    .dataframe tbody tr th {\n",
       "        vertical-align: top;\n",
       "    }\n",
       "\n",
       "    .dataframe thead th {\n",
       "        text-align: right;\n",
       "    }\n",
       "</style>\n",
       "<table border=\"1\" class=\"dataframe\">\n",
       "  <thead>\n",
       "    <tr style=\"text-align: right;\">\n",
       "      <th></th>\n",
       "      <th>start_time</th>\n",
       "      <th>end_time</th>\n",
       "      <th>exit</th>\n",
       "      <th>goal</th>\n",
       "    </tr>\n",
       "    <tr>\n",
       "      <th>ID</th>\n",
       "      <th></th>\n",
       "      <th></th>\n",
       "      <th></th>\n",
       "      <th></th>\n",
       "    </tr>\n",
       "  </thead>\n",
       "  <tbody>\n",
       "    <tr>\n",
       "      <th>13</th>\n",
       "      <td>4-5</td>\n",
       "      <td>9-10</td>\n",
       "      <td>dhj7tf</td>\n",
       "      <td>dhj7tk</td>\n",
       "    </tr>\n",
       "    <tr>\n",
       "      <th>13</th>\n",
       "      <td>13-14</td>\n",
       "      <td>15-16</td>\n",
       "      <td>dhj7tk</td>\n",
       "      <td>dhj7tf</td>\n",
       "    </tr>\n",
       "    <tr>\n",
       "      <th>20</th>\n",
       "      <td>9-10</td>\n",
       "      <td>10-11</td>\n",
       "      <td>dhj7qs</td>\n",
       "      <td>dhj7te</td>\n",
       "    </tr>\n",
       "    <tr>\n",
       "      <th>24</th>\n",
       "      <td>5-6</td>\n",
       "      <td>9-10</td>\n",
       "      <td>dhj7x6</td>\n",
       "      <td>dhj7wc</td>\n",
       "    </tr>\n",
       "    <tr>\n",
       "      <th>24</th>\n",
       "      <td>15-16</td>\n",
       "      <td>17-18</td>\n",
       "      <td>dhj7wc</td>\n",
       "      <td>dhj7x6</td>\n",
       "    </tr>\n",
       "    <tr>\n",
       "      <th>...</th>\n",
       "      <td>...</td>\n",
       "      <td>...</td>\n",
       "      <td>...</td>\n",
       "      <td>...</td>\n",
       "    </tr>\n",
       "    <tr>\n",
       "      <th>12958127</th>\n",
       "      <td>22-23</td>\n",
       "      <td>23-24</td>\n",
       "      <td>dhj7hs</td>\n",
       "      <td>dhj7kh</td>\n",
       "    </tr>\n",
       "    <tr>\n",
       "      <th>12958161</th>\n",
       "      <td>22-23</td>\n",
       "      <td>22-23</td>\n",
       "      <td>dhj6ud</td>\n",
       "      <td>dhj6sg</td>\n",
       "    </tr>\n",
       "    <tr>\n",
       "      <th>12958300</th>\n",
       "      <td>22-23</td>\n",
       "      <td>22-23</td>\n",
       "      <td>dhj6uv</td>\n",
       "      <td>dhj7hy</td>\n",
       "    </tr>\n",
       "    <tr>\n",
       "      <th>12958307</th>\n",
       "      <td>22-23</td>\n",
       "      <td>23-24</td>\n",
       "      <td>dhj7jg</td>\n",
       "      <td>dhj7wc</td>\n",
       "    </tr>\n",
       "    <tr>\n",
       "      <th>12958392</th>\n",
       "      <td>23-24</td>\n",
       "      <td>23-24</td>\n",
       "      <td>dhj7jz</td>\n",
       "      <td>dhj7jq</td>\n",
       "    </tr>\n",
       "  </tbody>\n",
       "</table>\n",
       "<p>1078196 rows × 4 columns</p>\n",
       "</div>"
      ],
      "text/plain": [
       "         start_time end_time    exit    goal\n",
       "ID                                          \n",
       "13              4-5     9-10  dhj7tf  dhj7tk\n",
       "13            13-14    15-16  dhj7tk  dhj7tf\n",
       "20             9-10    10-11  dhj7qs  dhj7te\n",
       "24              5-6     9-10  dhj7x6  dhj7wc\n",
       "24            15-16    17-18  dhj7wc  dhj7x6\n",
       "...             ...      ...     ...     ...\n",
       "12958127      22-23    23-24  dhj7hs  dhj7kh\n",
       "12958161      22-23    22-23  dhj6ud  dhj6sg\n",
       "12958300      22-23    22-23  dhj6uv  dhj7hy\n",
       "12958307      22-23    23-24  dhj7jg  dhj7wc\n",
       "12958392      23-24    23-24  dhj7jz  dhj7jq\n",
       "\n",
       "[1078196 rows x 4 columns]"
      ]
     },
     "execution_count": 14,
     "metadata": {},
     "output_type": "execute_result"
    }
   ],
   "source": [
    "day.drop('ID',axis=1)"
   ]
  },
  {
   "cell_type": "code",
   "execution_count": null,
   "id": "9aabc1f9",
   "metadata": {},
   "outputs": [],
   "source": []
  }
 ],
 "metadata": {
  "kernelspec": {
   "display_name": "Python 3 (ipykernel)",
   "language": "python",
   "name": "python3"
  },
  "language_info": {
   "codemirror_mode": {
    "name": "ipython",
    "version": 3
   },
   "file_extension": ".py",
   "mimetype": "text/x-python",
   "name": "python",
   "nbconvert_exporter": "python",
   "pygments_lexer": "ipython3",
   "version": "3.9.13"
  }
 },
 "nbformat": 4,
 "nbformat_minor": 5
}
