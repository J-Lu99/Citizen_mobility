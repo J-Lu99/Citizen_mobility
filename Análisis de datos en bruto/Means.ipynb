{
 "cells": [
  {
   "cell_type": "markdown",
   "metadata": {},
   "source": [
    "# Encontrar los valores medios de los histogramas y matrices"
   ]
  },
  {
   "cell_type": "markdown",
   "metadata": {},
   "source": [
    "----\n",
    "**Table of contents**<a id='toc0_'></a>    \n",
    "- [General](#toc1_1_)    \n",
    "- [Funciones](#toc1_2_)    \n",
    "- [_Main_](#toc1_3_)    \n",
    "\n",
    "<!-- vscode-jupyter-toc-config\n",
    "\tnumbering=false\n",
    "\tanchor=true\n",
    "\tflat=true\n",
    "\tminLevel=1\n",
    "\tmaxLevel=6\n",
    "\t/vscode-jupyter-toc-config -->\n",
    "<!-- THIS CELL WILL BE REPLACED ON TOC UPDATE. DO NOT WRITE YOUR TEXT IN THIS CELL -->"
   ]
  },
  {
   "cell_type": "markdown",
   "metadata": {},
   "source": [
    "----\n",
    "## <a id='toc1_1_'></a>[General](#toc0_)"
   ]
  },
  {
   "cell_type": "code",
   "execution_count": null,
   "metadata": {},
   "outputs": [],
   "source": [
    "\n",
    "import pickle\n",
    "import os\n",
    "import sys\n",
    "import numpy as np\n",
    "import multiprocessing\n",
    "from concurrent.futures import ProcessPoolExecutor\n",
    "from tqdm import tqdm as tqdm\n",
    "import itertools as it\n",
    "\n",
    "general_directory=os.getcwd()+'/Data/'\n",
    "cases=['allt','hw','no','mo']\n",
    "st=['st','unst']"
   ]
  },
  {
   "cell_type": "markdown",
   "metadata": {},
   "source": [
    "----\n",
    "## <a id='toc1_2_'></a>[Funciones](#toc0_)"
   ]
  },
  {
   "cell_type": "code",
   "execution_count": null,
   "metadata": {},
   "outputs": [],
   "source": [
    "def get_days():\n",
    "    if not os.path.isdir(general_directory): os.mkdir('Data')\n",
    "    if not os.path.isdir(general_directory+'Days'): os.mkdir(general_directory+'Days')\n",
    "    days=[i for i in os.listdir(general_directory+'Days') if i[-3:]=='dat']\n",
    "    days.sort()\n",
    "    if sys.argv[1]=='week':\n",
    "        days=[days[i][0:10] for i in range(len(days)) if all([(i-j)%7 != 0 for j in [3,4]])]\n",
    "    return days"
   ]
  },
  {
   "cell_type": "code",
   "execution_count": null,
   "metadata": {},
   "outputs": [],
   "source": [
    "def save_dataP(name,dictionary,location=general_directory):\n",
    "\n",
    "    with open(location+'Saves/'+ name+'.pkl', 'wb') as tf:\n",
    "        pickle.dump(dictionary,tf)"
   ]
  },
  {
   "cell_type": "code",
   "execution_count": null,
   "metadata": {},
   "outputs": [],
   "source": [
    "def load_hist(day,case,st):\n",
    "    with open(general_directory+'Saves/'+day[6:10]+'_'+case+'_'+st+'_hist.pkl','r+b') as pk:\n",
    "        hist=pickle.load(pk)\n",
    "    return hist\n",
    "\n",
    "\n",
    "def load_mat(day,case,st):\n",
    "    m=np.genfromtxt(general_directory+'Saves/'+day[6:10]+'_'+case+'_'+st+'_mat.csv',delimiter=',')\n",
    "    return m\n"
   ]
  },
  {
   "cell_type": "code",
   "execution_count": null,
   "metadata": {},
   "outputs": [],
   "source": [
    "def mean(case,st):\n",
    "    Mm=0\n",
    "    Mh=0\n",
    "    with tqdm(desc=\"Mean of cases \"+case,total=2*len(days)) as pbar:\n",
    "        for day in days:\n",
    "            Mm+=load_mat(day,case,st)\n",
    "            pbar.update()\n",
    "        np.savetxt(general_directory+'/Saves/Meanm_'+case+'_'+st+'_'+sys.argv[1]+'.csv',Mm/N,delimiter=',')\n",
    "        for day in days:\n",
    "            Mh+=load_hist(day,case,st)\n",
    "            pbar.update()\n",
    "        save_dataP('Meanh_'+case+'_'+st+'_'+sys.argv[1],Mh/N)"
   ]
  },
  {
   "cell_type": "markdown",
   "metadata": {},
   "source": [
    "----\n",
    "## <a id='toc1_3_'></a>[_Main_](#toc0_)"
   ]
  },
  {
   "cell_type": "code",
   "execution_count": null,
   "metadata": {},
   "outputs": [],
   "source": [
    "\n",
    "\n",
    "def main():\n",
    "    days=get_days()\n",
    "    N=len(days)\n",
    "\n",
    "    if N==0: print('No data yet')\n",
    "    else:\n",
    "        with ProcessPoolExecutor(max_workers=int(multiprocessing.cpu_count()/2)) as ex:\n",
    "            for i in st:\n",
    "                list(ex.map(mean,cases,[i for case in cases]))\n",
    " "
   ]
  },
  {
   "cell_type": "code",
   "execution_count": null,
   "metadata": {},
   "outputs": [],
   "source": [
    "       \n",
    "\n",
    "if __name__==\"__main__\":\n",
    "    \n",
    "    main()"
   ]
  }
 ],
 "metadata": {
  "language_info": {
   "name": "python"
  },
  "orig_nbformat": 4
 },
 "nbformat": 4,
 "nbformat_minor": 2
}
