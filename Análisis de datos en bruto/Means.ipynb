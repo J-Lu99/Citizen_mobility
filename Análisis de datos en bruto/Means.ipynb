{
 "cells": [
  {
   "cell_type": "markdown",
   "metadata": {},
   "source": [
    "# Encontrar los valores medios de los histogramas y matrices"
   ]
  },
  {
   "cell_type": "markdown",
   "metadata": {},
   "source": [
    "----\n",
    "**Table of contents**<a id='toc0_'></a>    \n",
    "- [General](#toc1_1_)    \n",
    "- [Funciones](#toc1_2_)    \n",
    "- [_Main_](#toc1_3_)    \n",
    "\n",
    "<!-- vscode-jupyter-toc-config\n",
    "\tnumbering=false\n",
    "\tanchor=true\n",
    "\tflat=true\n",
    "\tminLevel=1\n",
    "\tmaxLevel=6\n",
    "\t/vscode-jupyter-toc-config -->\n",
    "<!-- THIS CELL WILL BE REPLACED ON TOC UPDATE. DO NOT WRITE YOUR TEXT IN THIS CELL -->"
   ]
  },
  {
   "cell_type": "markdown",
   "metadata": {},
   "source": [
    "----\n",
    "## <a id='toc1_1_'></a>[General](#toc0_)"
   ]
  },
  {
   "cell_type": "code",
   "execution_count": 54,
   "metadata": {},
   "outputs": [],
   "source": [
    "\n",
    "import pickle\n",
    "import os\n",
    "import sys\n",
    "import numpy as np\n",
    "import multiprocessing\n",
    "from concurrent.futures import ProcessPoolExecutor\n",
    "from tqdm import tqdm as tqdm\n",
    "import itertools as it\n",
    "\n",
    "general_directory=os.getcwd()+'/Data/'\n",
    "cases=['allt','hw','no','mo']\n",
    "st=['st','unst']"
   ]
  },
  {
   "cell_type": "markdown",
   "metadata": {},
   "source": [
    "----\n",
    "## <a id='toc1_2_'></a>[Funciones](#toc0_)"
   ]
  },
  {
   "cell_type": "code",
   "execution_count": 63,
   "metadata": {},
   "outputs": [],
   "source": [
    "def get_days(period):\n",
    "    if not os.path.isdir(general_directory): os.mkdir('Data')\n",
    "    if not os.path.isdir(general_directory+'Days'): os.mkdir(general_directory+'Days')\n",
    "    days=[i for i in os.listdir(general_directory+'Saves')]\n",
    "    ndays=[]\n",
    "    for day in days:\n",
    "        try:\n",
    "            int(day[0])\n",
    "            if day[:4] not in ndays:\n",
    "                ndays.append(day[:4])\n",
    "        except:\n",
    "            pass\n",
    "    days=ndays\n",
    "    days.sort\n",
    "    if period=='week':\n",
    "        days=[days[i][0:10] for i in range(len(days)) if all([(i-j)%7 != 0 for j in [3,4]])]\n",
    "    if period=='weekend':\n",
    "        days=[days[i][0:10] for i in range(len(days)) if any([(i-j)%7 == 0 for j in [3,4]])]\n",
    "    return days"
   ]
  },
  {
   "cell_type": "code",
   "execution_count": 56,
   "metadata": {},
   "outputs": [],
   "source": [
    "def save_dataP(name,dictionary,location=general_directory):\n",
    "\n",
    "    with open(location+'Saves/'+ name+'.pkl', 'wb') as tf:\n",
    "        pickle.dump(dictionary,tf)"
   ]
  },
  {
   "cell_type": "code",
   "execution_count": 76,
   "metadata": {},
   "outputs": [],
   "source": [
    "def load_hist(day,case,st):\n",
    "    with open(general_directory+'Saves/'+day+'_'+case+'_'+st+'_hist.pkl','r+b') as pk:\n",
    "        hist=pickle.load(pk)\n",
    "    return hist\n",
    "\n",
    "\n",
    "def load_mat(day,case,st):\n",
    "    m=np.genfromtxt(general_directory+'Saves/'+day+'_'+case+'_'+st+'_mat.csv',delimiter=',')\n",
    "    return m\n"
   ]
  },
  {
   "cell_type": "code",
   "execution_count": 77,
   "metadata": {},
   "outputs": [],
   "source": [
    "def mean(case,st,period):\n",
    "    Mm=0\n",
    "    Mh=0\n",
    "    with tqdm(desc=\"Mean of cases \"+case,total=2*len(days)) as pbar:\n",
    "        for day in days:\n",
    "            Mm+=load_mat(day,case,st)\n",
    "            pbar.update()\n",
    "        np.savetxt(general_directory+'/Saves/Meanm_'+case+'_'+st+'_'+period+'.csv',Mm/N,delimiter=',')\n",
    "        for day in days:\n",
    "            Mh+=load_hist(day,case,st)\n",
    "            pbar.update()\n",
    "        save_dataP('Meanh_'+case+'_'+st+'_'+period,Mh/N)"
   ]
  },
  {
   "cell_type": "markdown",
   "metadata": {},
   "source": [
    "----\n",
    "## <a id='toc1_3_'></a>[_Main_](#toc0_)"
   ]
  },
  {
   "cell_type": "code",
   "execution_count": 71,
   "metadata": {},
   "outputs": [],
   "source": [
    "\n",
    "\n",
    "def main(period):\n",
    "    days=get_days(period)\n",
    "    N=len(days)\n",
    "\n",
    "    if N==0: print('No data yet')\n",
    "    else:\n",
    "        with ProcessPoolExecutor(max_workers=int(multiprocessing.cpu_count()/2)) as ex:\n",
    "            for i in st:\n",
    "                list(ex.map(mean,cases,[i for case in cases],[period for case in cases]))\n",
    " "
   ]
  },
  {
   "cell_type": "code",
   "execution_count": 60,
   "metadata": {},
   "outputs": [
    {
     "ename": "TypeError",
     "evalue": "main() missing 1 required positional argument: 'period'",
     "output_type": "error",
     "traceback": [
      "\u001b[1;31m---------------------------------------------------------------------------\u001b[0m",
      "\u001b[1;31mTypeError\u001b[0m                                 Traceback (most recent call last)",
      "\u001b[1;32m~\\AppData\\Local\\Temp\\ipykernel_9928\\2006465486.py\u001b[0m in \u001b[0;36m<module>\u001b[1;34m\u001b[0m\n\u001b[0;32m      1\u001b[0m \u001b[1;32mif\u001b[0m \u001b[0m__name__\u001b[0m\u001b[1;33m==\u001b[0m\u001b[1;34m\"__main__\"\u001b[0m\u001b[1;33m:\u001b[0m\u001b[1;33m\u001b[0m\u001b[1;33m\u001b[0m\u001b[0m\n\u001b[0;32m      2\u001b[0m \u001b[1;33m\u001b[0m\u001b[0m\n\u001b[1;32m----> 3\u001b[1;33m     \u001b[0mmain\u001b[0m\u001b[1;33m(\u001b[0m\u001b[1;33m)\u001b[0m\u001b[1;33m\u001b[0m\u001b[1;33m\u001b[0m\u001b[0m\n\u001b[0m",
      "\u001b[1;31mTypeError\u001b[0m: main() missing 1 required positional argument: 'period'"
     ]
    }
   ],
   "source": [
    "       \n",
    "\n",
    "if __name__==\"__main__\":\n",
    "    \n",
    "    main(period)"
   ]
  },
  {
   "cell_type": "code",
   "execution_count": 80,
   "metadata": {},
   "outputs": [
    {
     "name": "stderr",
     "output_type": "stream",
     "text": [
      "Mean of cases allt: 100%|██████████████████████████████████████████████████████████████| 20/20 [00:13<00:00,  1.44it/s]\n",
      "Mean of cases allt: 100%|██████████████████████████████████████████████████████████████| 20/20 [00:06<00:00,  2.99it/s]\n",
      "Mean of cases hw: 100%|████████████████████████████████████████████████████████████████| 20/20 [00:07<00:00,  2.63it/s]\n",
      "Mean of cases hw: 100%|████████████████████████████████████████████████████████████████| 20/20 [00:09<00:00,  2.15it/s]\n",
      "Mean of cases no: 100%|████████████████████████████████████████████████████████████████| 20/20 [00:15<00:00,  1.30it/s]\n",
      "Mean of cases no: 100%|████████████████████████████████████████████████████████████████| 20/20 [00:24<00:00,  1.24s/it]\n",
      "Mean of cases mo: 100%|████████████████████████████████████████████████████████████████| 20/20 [00:22<00:00,  1.10s/it]\n",
      "Mean of cases mo: 100%|████████████████████████████████████████████████████████████████| 20/20 [00:14<00:00,  1.42it/s]\n"
     ]
    }
   ],
   "source": [
    "days=get_days('weekend')\n",
    "N=len(days)\n",
    "for case in cases:\n",
    "    for s in st:\n",
    "        mean(case,s,'weekend')"
   ]
  }
 ],
 "metadata": {
  "kernelspec": {
   "display_name": "Python 3 (ipykernel)",
   "language": "python",
   "name": "python3"
  },
  "language_info": {
   "codemirror_mode": {
    "name": "ipython",
    "version": 3
   },
   "file_extension": ".py",
   "mimetype": "text/x-python",
   "name": "python",
   "nbconvert_exporter": "python",
   "pygments_lexer": "ipython3",
   "version": "3.9.13"
  },
  "orig_nbformat": 4
 },
 "nbformat": 4,
 "nbformat_minor": 2
}
